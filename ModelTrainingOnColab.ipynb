{
  "nbformat": 4,
  "nbformat_minor": 0,
  "metadata": {
    "colab": {
      "name": "ModelTrainingOnColab.ipynb",
      "provenance": [],
      "collapsed_sections": [],
      "include_colab_link": true
    },
    "kernelspec": {
      "name": "python3",
      "display_name": "Python 3"
    },
    "accelerator": "GPU"
  },
  "cells": [
    {
      "cell_type": "markdown",
      "metadata": {
        "id": "view-in-github",
        "colab_type": "text"
      },
      "source": [
        "<a href=\"https://colab.research.google.com/github/sidharth1805/tensorflow/blob/master/ModelTrainingOnColab.ipynb\" target=\"_parent\"><img src=\"https://colab.research.google.com/assets/colab-badge.svg\" alt=\"Open In Colab\"/></a>"
      ]
    },
    {
      "cell_type": "markdown",
      "metadata": {
        "id": "3DpsEfckuuU-"
      },
      "source": [
        "#Project training on google colab"
      ]
    },
    {
      "cell_type": "markdown",
      "metadata": {
        "id": "ywLTsRXITas-"
      },
      "source": [
        "Install TensorFlow and Numpy"
      ]
    },
    {
      "cell_type": "code",
      "metadata": {
        "id": "8WAUDct-2tT5",
        "colab": {
          "base_uri": "https://localhost:8080/",
          "height": 445
        },
        "outputId": "a752caaa-c8d5-4807-aa5b-739963c4c4e2"
      },
      "source": [
        "!pip install --upgrade pip\n",
        "!pip install --upgrade protobuf "
      ],
      "execution_count": null,
      "outputs": [
        {
          "output_type": "stream",
          "text": [
            "Collecting pip\n",
            "\u001b[?25l  Downloading https://files.pythonhosted.org/packages/54/eb/4a3642e971f404d69d4f6fa3885559d67562801b99d7592487f1ecc4e017/pip-20.3.3-py2.py3-none-any.whl (1.5MB)\n",
            "\u001b[K     |████████████████████████████████| 1.5MB 8.9MB/s \n",
            "\u001b[?25hInstalling collected packages: pip\n",
            "  Found existing installation: pip 19.3.1\n",
            "    Uninstalling pip-19.3.1:\n",
            "      Successfully uninstalled pip-19.3.1\n",
            "Successfully installed pip-20.3.3\n",
            "Requirement already satisfied: protobuf in /usr/local/lib/python3.6/dist-packages (3.12.4)\n",
            "Collecting protobuf\n",
            "  Downloading protobuf-3.14.0-cp36-cp36m-manylinux1_x86_64.whl (1.0 MB)\n",
            "\u001b[K     |████████████████████████████████| 1.0 MB 7.4 MB/s \n",
            "\u001b[?25hRequirement already satisfied: six>=1.9 in /usr/local/lib/python3.6/dist-packages (from protobuf) (1.15.0)\n",
            "Installing collected packages: protobuf\n",
            "  Attempting uninstall: protobuf\n",
            "    Found existing installation: protobuf 3.12.4\n",
            "    Uninstalling protobuf-3.12.4:\n",
            "      Successfully uninstalled protobuf-3.12.4\n",
            "Successfully installed protobuf-3.14.0\n"
          ],
          "name": "stdout"
        },
        {
          "output_type": "display_data",
          "data": {
            "application/vnd.colab-display-data+json": {
              "pip_warning": {
                "packages": [
                  "google"
                ]
              }
            }
          },
          "metadata": {
            "tags": []
          }
        }
      ]
    },
    {
      "cell_type": "code",
      "metadata": {
        "id": "VVGEEyBWuybR",
        "colab": {
          "base_uri": "https://localhost:8080/"
        },
        "outputId": "f437df0b-0552-4e1d-ac71-ee29fd852354"
      },
      "source": [
        "%tensorflow_version 1.13\n",
        "import tensorflow as tf\n",
        "print(tf.__version__)\n",
        "\n",
        "!pip install numpy"
      ],
      "execution_count": null,
      "outputs": [
        {
          "output_type": "stream",
          "text": [
            "`%tensorflow_version` only switches the major version: 1.x or 2.x.\n",
            "You set: `1.13`. This will be interpreted as: `1.x`.\n",
            "\n",
            "\n",
            "TensorFlow 1.x selected.\n",
            "1.15.2\n",
            "Requirement already satisfied: numpy in /usr/local/lib/python3.6/dist-packages (1.19.5)\n"
          ],
          "name": "stdout"
        }
      ]
    },
    {
      "cell_type": "markdown",
      "metadata": {
        "id": "aOF5xbonUEji"
      },
      "source": [
        "Check GPU status"
      ]
    },
    {
      "cell_type": "code",
      "metadata": {
        "id": "c2imyYdAUG6X",
        "colab": {
          "base_uri": "https://localhost:8080/"
        },
        "outputId": "1ffa3fa8-2eec-4ac8-e165-920cc0cd7b9a"
      },
      "source": [
        "device_name = tf.test.gpu_device_name()\n",
        "if device_name != '/device:GPU:0':\n",
        "   raise SystemError('GPU device not found')\n",
        "print('Found GPU at: {}'.format(device_name))"
      ],
      "execution_count": null,
      "outputs": [
        {
          "output_type": "stream",
          "text": [
            "Found GPU at: /device:GPU:0\n"
          ],
          "name": "stdout"
        }
      ]
    },
    {
      "cell_type": "code",
      "metadata": {
        "id": "NELP24dfr__j",
        "colab": {
          "base_uri": "https://localhost:8080/"
        },
        "outputId": "d91ba60e-a90a-4061-e60b-999b6c373b88"
      },
      "source": [
        "# memory footprint support libraries/code\n",
        "!ln -sf /opt/bin/nvidia-smi /usr/bin/nvidia-smi\n",
        "!pip install gputil\n",
        "!pip install psutil\n",
        "!pip install humanize\n",
        "import psutil\n",
        "import humanize\n",
        "import os\n",
        "import GPUtil as GPU\n",
        "GPUs = GPU.getGPUs()\n",
        "# XXX: only one GPU on Colab and isn’t guaranteed\n",
        "gpu = GPUs[0]\n",
        "def printm():\n",
        " process = psutil.Process(os.getpid())\n",
        " print(\"Gen RAM Free: \" + humanize.naturalsize( psutil.virtual_memory().available ), \" | Proc size: \" + humanize.naturalsize( process.memory_info().rss))\n",
        " print(\"GPU RAM Free: {0:.0f}MB | Used: {1:.0f}MB | Util {2:3.0f}% | Total {3:.0f}MB\".format(gpu.memoryFree, gpu.memoryUsed, gpu.memoryUtil*100, gpu.memoryTotal))\n",
        "printm() "
      ],
      "execution_count": null,
      "outputs": [
        {
          "output_type": "stream",
          "text": [
            "Collecting gputil\n",
            "  Downloading GPUtil-1.4.0.tar.gz (5.5 kB)\n",
            "Building wheels for collected packages: gputil\n",
            "  Building wheel for gputil (setup.py) ... \u001b[?25l\u001b[?25hdone\n",
            "  Created wheel for gputil: filename=GPUtil-1.4.0-py3-none-any.whl size=7410 sha256=f032b380f7fde6c2f51df2205d18bf44c81e00cd4b59c42742413a51f59bcac1\n",
            "  Stored in directory: /root/.cache/pip/wheels/79/c1/b2/b6fc2647f693a084da25e1d31328ab3dbb565cc58fea37e973\n",
            "Successfully built gputil\n",
            "Installing collected packages: gputil\n",
            "Successfully installed gputil-1.4.0\n",
            "Requirement already satisfied: psutil in /usr/local/lib/python3.6/dist-packages (5.4.8)\n",
            "Requirement already satisfied: humanize in /usr/local/lib/python3.6/dist-packages (0.5.1)\n",
            "Gen RAM Free: 12.5 GB  | Proc size: 512.6 MB\n",
            "GPU RAM Free: 16015MB | Used: 265MB | Util   2% | Total 16280MB\n"
          ],
          "name": "stdout"
        }
      ]
    },
    {
      "cell_type": "markdown",
      "metadata": {
        "id": "zPFwmz8-Thlv"
      },
      "source": [
        "Mount Google Drive folder"
      ]
    },
    {
      "cell_type": "code",
      "metadata": {
        "id": "3FZq1IZ-zwfw",
        "colab": {
          "base_uri": "https://localhost:8080/"
        },
        "outputId": "77b0d2f7-884d-4f68-a27d-112e35f27088"
      },
      "source": [
        "from google.colab import drive\n",
        "drive.mount('/content/gdrive')\n",
        "\n",
        "# change to working tensorflow directory on the drive\n",
        "%cd '/content/gdrive/My Drive/TensorFlow/models/'"
      ],
      "execution_count": null,
      "outputs": [
        {
          "output_type": "stream",
          "text": [
            "Mounted at /content/gdrive\n",
            "/content/gdrive/My Drive/TensorFlow/models\n"
          ],
          "name": "stdout"
        }
      ]
    },
    {
      "cell_type": "markdown",
      "metadata": {
        "id": "VfvOiCIXzATF"
      },
      "source": [
        ""
      ]
    },
    {
      "cell_type": "code",
      "metadata": {
        "id": "VRvpgDHjzAuk",
        "colab": {
          "base_uri": "https://localhost:8080/"
        },
        "outputId": "b423bee1-7fe4-422a-9615-50d87fea5da1"
      },
      "source": [
        "!pip install -qU t5"
      ],
      "execution_count": null,
      "outputs": [
        {
          "output_type": "stream",
          "text": [
            "\u001b[K     |████████████████████████████████| 214 kB 10.2 MB/s \n",
            "\u001b[K     |████████████████████████████████| 361 kB 16.9 MB/s \n",
            "\u001b[K     |████████████████████████████████| 1.8 MB 12.9 MB/s \n",
            "\u001b[K     |████████████████████████████████| 2.9 MB 53.5 MB/s \n",
            "\u001b[K     |████████████████████████████████| 64 kB 3.2 MB/s \n",
            "\u001b[K     |████████████████████████████████| 883 kB 55.6 MB/s \n",
            "\u001b[K     |████████████████████████████████| 1.2 MB 49.3 MB/s \n",
            "\u001b[K     |████████████████████████████████| 3.4 MB 52.7 MB/s \n",
            "\u001b[K     |████████████████████████████████| 394.7 MB 13 kB/s \n",
            "\u001b[K     |████████████████████████████████| 10.6 MB 51.1 MB/s \n",
            "\u001b[K     |████████████████████████████████| 462 kB 47.2 MB/s \n",
            "\u001b[K     |████████████████████████████████| 3.7 MB 43.5 MB/s \n",
            "\u001b[?25h  Building wheel for sacremoses (setup.py) ... \u001b[?25l\u001b[?25hdone\n"
          ],
          "name": "stdout"
        }
      ]
    },
    {
      "cell_type": "markdown",
      "metadata": {
        "id": "gw8JMJiHTnBY"
      },
      "source": [
        "Install protobuf and compile, install setup.py"
      ]
    },
    {
      "cell_type": "code",
      "metadata": {
        "id": "JsOeYR__0Q3J",
        "colab": {
          "base_uri": "https://localhost:8080/"
        },
        "outputId": "f4b4981c-d262-4463-9e84-cc8da21828d6"
      },
      "source": [
        "!apt-get install protobuf-compiler python-pil python-lxml python-tk\n",
        "!pip install Cython\n",
        "%cd /content/gdrive/My Drive/Object_Detection_Files/models/research/\n",
        "!protoc object_detection/protos/*.proto --python_out=.\n",
        "\n",
        "import os\n",
        "os.environ['PYTHONPATH'] += ':/content/gdrive/My Drive/models/research/:/content/gdrive/My Drive/Tensorflow/models/research/slim'\n",
        "\n",
        "!python setup.py build\n",
        "!python setup.py install"
      ],
      "execution_count": null,
      "outputs": [
        {
          "output_type": "stream",
          "text": [
            "Reading package lists... Done\n",
            "Building dependency tree       \n",
            "Reading state information... Done\n",
            "protobuf-compiler is already the newest version (3.0.0-9.1ubuntu1).\n",
            "python-tk is already the newest version (2.7.17-1~18.04).\n",
            "The following additional packages will be installed:\n",
            "  python-bs4 python-chardet python-html5lib python-olefile\n",
            "  python-pkg-resources python-six python-webencodings\n",
            "Suggested packages:\n",
            "  python-genshi python-lxml-dbg python-lxml-doc python-pil-doc python-pil-dbg\n",
            "  python-setuptools\n",
            "The following NEW packages will be installed:\n",
            "  python-bs4 python-chardet python-html5lib python-lxml python-olefile\n",
            "  python-pil python-pkg-resources python-six python-webencodings\n",
            "0 upgraded, 9 newly installed, 0 to remove and 16 not upgraded.\n",
            "Need to get 1,615 kB of archives.\n",
            "After this operation, 8,907 kB of additional disk space will be used.\n",
            "Get:1 http://archive.ubuntu.com/ubuntu bionic/main amd64 python-bs4 all 4.6.0-1 [67.9 kB]\n",
            "Get:2 http://archive.ubuntu.com/ubuntu bionic/main amd64 python-pkg-resources all 39.0.1-2 [128 kB]\n",
            "Get:3 http://archive.ubuntu.com/ubuntu bionic/main amd64 python-chardet all 3.0.4-1 [80.3 kB]\n",
            "Get:4 http://archive.ubuntu.com/ubuntu bionic/main amd64 python-six all 1.11.0-2 [11.3 kB]\n",
            "Get:5 http://archive.ubuntu.com/ubuntu bionic/main amd64 python-webencodings all 0.5-2 [10.3 kB]\n",
            "Get:6 http://archive.ubuntu.com/ubuntu bionic/main amd64 python-html5lib all 0.999999999-1 [83.6 kB]\n",
            "Get:7 http://archive.ubuntu.com/ubuntu bionic-updates/main amd64 python-lxml amd64 4.2.1-1ubuntu0.3 [899 kB]\n",
            "Get:8 http://archive.ubuntu.com/ubuntu bionic/main amd64 python-olefile all 0.45.1-1 [33.2 kB]\n",
            "Get:9 http://archive.ubuntu.com/ubuntu bionic-updates/main amd64 python-pil amd64 5.1.0-1ubuntu0.3 [301 kB]\n",
            "Fetched 1,615 kB in 1s (1,099 kB/s)\n",
            "Selecting previously unselected package python-bs4.\n",
            "(Reading database ... 145483 files and directories currently installed.)\n",
            "Preparing to unpack .../0-python-bs4_4.6.0-1_all.deb ...\n",
            "Unpacking python-bs4 (4.6.0-1) ...\n",
            "Selecting previously unselected package python-pkg-resources.\n",
            "Preparing to unpack .../1-python-pkg-resources_39.0.1-2_all.deb ...\n",
            "Unpacking python-pkg-resources (39.0.1-2) ...\n",
            "Selecting previously unselected package python-chardet.\n",
            "Preparing to unpack .../2-python-chardet_3.0.4-1_all.deb ...\n",
            "Unpacking python-chardet (3.0.4-1) ...\n",
            "Selecting previously unselected package python-six.\n",
            "Preparing to unpack .../3-python-six_1.11.0-2_all.deb ...\n",
            "Unpacking python-six (1.11.0-2) ...\n",
            "Selecting previously unselected package python-webencodings.\n",
            "Preparing to unpack .../4-python-webencodings_0.5-2_all.deb ...\n",
            "Unpacking python-webencodings (0.5-2) ...\n",
            "Selecting previously unselected package python-html5lib.\n",
            "Preparing to unpack .../5-python-html5lib_0.999999999-1_all.deb ...\n",
            "Unpacking python-html5lib (0.999999999-1) ...\n",
            "Selecting previously unselected package python-lxml:amd64.\n",
            "Preparing to unpack .../6-python-lxml_4.2.1-1ubuntu0.3_amd64.deb ...\n",
            "Unpacking python-lxml:amd64 (4.2.1-1ubuntu0.3) ...\n",
            "Selecting previously unselected package python-olefile.\n",
            "Preparing to unpack .../7-python-olefile_0.45.1-1_all.deb ...\n",
            "Unpacking python-olefile (0.45.1-1) ...\n",
            "Selecting previously unselected package python-pil:amd64.\n",
            "Preparing to unpack .../8-python-pil_5.1.0-1ubuntu0.3_amd64.deb ...\n",
            "Unpacking python-pil:amd64 (5.1.0-1ubuntu0.3) ...\n",
            "Setting up python-pkg-resources (39.0.1-2) ...\n",
            "Setting up python-six (1.11.0-2) ...\n",
            "Setting up python-bs4 (4.6.0-1) ...\n",
            "Setting up python-lxml:amd64 (4.2.1-1ubuntu0.3) ...\n",
            "Setting up python-olefile (0.45.1-1) ...\n",
            "Setting up python-pil:amd64 (5.1.0-1ubuntu0.3) ...\n",
            "Setting up python-webencodings (0.5-2) ...\n",
            "Setting up python-chardet (3.0.4-1) ...\n",
            "Setting up python-html5lib (0.999999999-1) ...\n",
            "Processing triggers for man-db (2.8.3-2ubuntu0.1) ...\n",
            "Requirement already satisfied: Cython in /usr/local/lib/python3.6/dist-packages (0.29.21)\n",
            "[Errno 2] No such file or directory: '/content/gdrive/My Drive/Object_Detection_Files/models/research/'\n",
            "/content/gdrive/My Drive/TensorFlow/models\n",
            "object_detection/protos/*.proto: No such file or directory\n",
            "python3: can't open file 'setup.py': [Errno 2] No such file or directory\n",
            "python3: can't open file 'setup.py': [Errno 2] No such file or directory\n"
          ],
          "name": "stdout"
        }
      ]
    },
    {
      "cell_type": "markdown",
      "metadata": {
        "id": "VOA1qhgXTrw4"
      },
      "source": [
        "Check remaining GPU time"
      ]
    },
    {
      "cell_type": "code",
      "metadata": {
        "id": "GA7Fzh211CNU",
        "colab": {
          "base_uri": "https://localhost:8080/"
        },
        "outputId": "05e872d3-7627-4a66-a7b0-1c1dc0c2a541"
      },
      "source": [
        "import time, psutil\n",
        "Start = time.time()- psutil.boot_time()\n",
        "Left= 12*3600 - Start\n",
        "print('Time remaining for this session is: ', Left/3600)"
      ],
      "execution_count": null,
      "outputs": [
        {
          "output_type": "stream",
          "text": [
            "Time remaining for this session is:  11.923499374787013\n"
          ],
          "name": "stdout"
        }
      ]
    },
    {
      "cell_type": "code",
      "metadata": {
        "id": "nW8MJrw3xBid",
        "colab": {
          "base_uri": "https://localhost:8080/"
        },
        "outputId": "876924e9-8e07-475a-c6a1-1f4af2473877"
      },
      "source": [
        "!pip install \"tfds-nightly>=1.3.2.dev201912070105,<2.1.0.dev202003190105\""
      ],
      "execution_count": null,
      "outputs": [
        {
          "output_type": "stream",
          "text": [
            "Collecting tfds-nightly<2.1.0.dev202003190105,>=1.3.2.dev201912070105\n",
            "  Downloading tfds_nightly-2.1.0.dev202003180105-py3-none-any.whl (3.2 MB)\n",
            "\u001b[K     |████████████████████████████████| 3.2 MB 8.1 MB/s \n",
            "\u001b[?25hRequirement already satisfied: numpy in /usr/local/lib/python3.6/dist-packages (from tfds-nightly<2.1.0.dev202003190105,>=1.3.2.dev201912070105) (1.19.5)\n",
            "Requirement already satisfied: absl-py in /usr/local/lib/python3.6/dist-packages (from tfds-nightly<2.1.0.dev202003190105,>=1.3.2.dev201912070105) (0.10.0)\n",
            "Requirement already satisfied: dill in /usr/local/lib/python3.6/dist-packages (from tfds-nightly<2.1.0.dev202003190105,>=1.3.2.dev201912070105) (0.3.3)\n",
            "Requirement already satisfied: termcolor in /usr/local/lib/python3.6/dist-packages (from tfds-nightly<2.1.0.dev202003190105,>=1.3.2.dev201912070105) (1.1.0)\n",
            "Requirement already satisfied: promise in /usr/local/lib/python3.6/dist-packages (from tfds-nightly<2.1.0.dev202003190105,>=1.3.2.dev201912070105) (2.3)\n",
            "Requirement already satisfied: protobuf>=3.6.1 in /usr/local/lib/python3.6/dist-packages (from tfds-nightly<2.1.0.dev202003190105,>=1.3.2.dev201912070105) (3.14.0)\n",
            "Requirement already satisfied: future in /usr/local/lib/python3.6/dist-packages (from tfds-nightly<2.1.0.dev202003190105,>=1.3.2.dev201912070105) (0.16.0)\n",
            "Requirement already satisfied: requests>=2.19.0 in /usr/local/lib/python3.6/dist-packages (from tfds-nightly<2.1.0.dev202003190105,>=1.3.2.dev201912070105) (2.23.0)\n",
            "Requirement already satisfied: attrs>=18.1.0 in /usr/local/lib/python3.6/dist-packages (from tfds-nightly<2.1.0.dev202003190105,>=1.3.2.dev201912070105) (20.3.0)\n",
            "Requirement already satisfied: six in /usr/local/lib/python3.6/dist-packages (from tfds-nightly<2.1.0.dev202003190105,>=1.3.2.dev201912070105) (1.15.0)\n",
            "Requirement already satisfied: tensorflow-metadata in /usr/local/lib/python3.6/dist-packages (from tfds-nightly<2.1.0.dev202003190105,>=1.3.2.dev201912070105) (0.26.0)\n",
            "Requirement already satisfied: tqdm in /usr/local/lib/python3.6/dist-packages (from tfds-nightly<2.1.0.dev202003190105,>=1.3.2.dev201912070105) (4.41.1)\n",
            "Requirement already satisfied: wrapt in /usr/local/lib/python3.6/dist-packages (from tfds-nightly<2.1.0.dev202003190105,>=1.3.2.dev201912070105) (1.12.1)\n",
            "Requirement already satisfied: idna<3,>=2.5 in /usr/local/lib/python3.6/dist-packages (from requests>=2.19.0->tfds-nightly<2.1.0.dev202003190105,>=1.3.2.dev201912070105) (2.10)\n",
            "Requirement already satisfied: chardet<4,>=3.0.2 in /usr/local/lib/python3.6/dist-packages (from requests>=2.19.0->tfds-nightly<2.1.0.dev202003190105,>=1.3.2.dev201912070105) (3.0.4)\n",
            "Requirement already satisfied: certifi>=2017.4.17 in /usr/local/lib/python3.6/dist-packages (from requests>=2.19.0->tfds-nightly<2.1.0.dev202003190105,>=1.3.2.dev201912070105) (2020.12.5)\n",
            "Requirement already satisfied: urllib3!=1.25.0,!=1.25.1,<1.26,>=1.21.1 in /usr/local/lib/python3.6/dist-packages (from requests>=2.19.0->tfds-nightly<2.1.0.dev202003190105,>=1.3.2.dev201912070105) (1.24.3)\n",
            "Requirement already satisfied: googleapis-common-protos<2,>=1.52.0 in /usr/local/lib/python3.6/dist-packages (from tensorflow-metadata->tfds-nightly<2.1.0.dev202003190105,>=1.3.2.dev201912070105) (1.52.0)\n",
            "Installing collected packages: tfds-nightly\n",
            "  Attempting uninstall: tfds-nightly\n",
            "    Found existing installation: tfds-nightly 4.2.0.dev202101170107\n",
            "    Uninstalling tfds-nightly-4.2.0.dev202101170107:\n",
            "      Successfully uninstalled tfds-nightly-4.2.0.dev202101170107\n",
            "Successfully installed tfds-nightly-2.1.0.dev202003180105\n"
          ],
          "name": "stdout"
        }
      ]
    },
    {
      "cell_type": "code",
      "metadata": {
        "id": "gzoKcfEF0D0P"
      },
      "source": [
        "import os"
      ],
      "execution_count": null,
      "outputs": []
    },
    {
      "cell_type": "code",
      "metadata": {
        "id": "wrpPd0uq0ZGp",
        "colab": {
          "base_uri": "https://localhost:8080/",
          "height": 1000
        },
        "outputId": "8c7f55e6-d9d2-40fa-932c-98722b3cf3b1"
      },
      "source": [
        "pip install tf-models-official"
      ],
      "execution_count": null,
      "outputs": [
        {
          "output_type": "stream",
          "text": [
            "Collecting tf-models-official\n",
            "  Downloading tf_models_official-2.4.0-py2.py3-none-any.whl (1.1 MB)\n",
            "\u001b[K     |████████████████████████████████| 1.1 MB 7.9 MB/s \n",
            "\u001b[?25hRequirement already satisfied: dataclasses in /usr/local/lib/python3.6/dist-packages (from tf-models-official) (0.8)\n",
            "Requirement already satisfied: tensorflow>=2.4.0 in /usr/local/lib/python3.6/dist-packages (from tf-models-official) (2.4.0)\n",
            "Requirement already satisfied: pandas>=0.22.0 in /usr/local/lib/python3.6/dist-packages (from tf-models-official) (1.1.5)\n",
            "Requirement already satisfied: pycocotools in /usr/local/lib/python3.6/dist-packages (from tf-models-official) (2.0.2)\n",
            "Requirement already satisfied: six in /usr/local/lib/python3.6/dist-packages (from tf-models-official) (1.15.0)\n",
            "Requirement already satisfied: google-api-python-client>=1.6.7 in /usr/local/lib/python3.6/dist-packages (from tf-models-official) (1.7.12)\n",
            "Requirement already satisfied: tensorflow-datasets in /usr/local/lib/python3.6/dist-packages (from tf-models-official) (4.0.1)\n",
            "Requirement already satisfied: scipy>=0.19.1 in /usr/local/lib/python3.6/dist-packages (from tf-models-official) (1.4.1)\n",
            "Requirement already satisfied: sentencepiece in /usr/local/lib/python3.6/dist-packages (from tf-models-official) (0.1.95)\n",
            "Requirement already satisfied: Cython in /usr/local/lib/python3.6/dist-packages (from tf-models-official) (0.29.21)\n",
            "Requirement already satisfied: oauth2client in /usr/local/lib/python3.6/dist-packages (from tf-models-official) (4.1.3)\n",
            "Requirement already satisfied: Pillow in /usr/local/lib/python3.6/dist-packages (from tf-models-official) (7.0.0)\n",
            "Requirement already satisfied: google-cloud-bigquery>=0.31.0 in /usr/local/lib/python3.6/dist-packages (from tf-models-official) (1.21.0)\n",
            "Requirement already satisfied: tensorflow-addons in /usr/local/lib/python3.6/dist-packages (from tf-models-official) (0.8.3)\n",
            "Requirement already satisfied: matplotlib in /usr/local/lib/python3.6/dist-packages (from tf-models-official) (3.2.2)\n",
            "Requirement already satisfied: gin-config in /usr/local/lib/python3.6/dist-packages (from tf-models-official) (0.4.0)\n",
            "Requirement already satisfied: numpy>=1.15.4 in /usr/local/lib/python3.6/dist-packages (from tf-models-official) (1.19.5)\n",
            "Requirement already satisfied: tensorflow-hub>=0.6.0 in /usr/local/lib/python3.6/dist-packages (from tf-models-official) (0.11.0)\n",
            "Requirement already satisfied: kaggle>=1.3.9 in /usr/local/lib/python3.6/dist-packages (from tf-models-official) (1.5.10)\n",
            "Requirement already satisfied: psutil>=5.4.3 in /usr/local/lib/python3.6/dist-packages (from tf-models-official) (5.4.8)\n",
            "Requirement already satisfied: httplib2<1dev,>=0.17.0 in /usr/local/lib/python3.6/dist-packages (from google-api-python-client>=1.6.7->tf-models-official) (0.17.4)\n",
            "Requirement already satisfied: google-auth-httplib2>=0.0.3 in /usr/local/lib/python3.6/dist-packages (from google-api-python-client>=1.6.7->tf-models-official) (0.0.4)\n",
            "Requirement already satisfied: google-auth>=1.4.1 in /usr/local/lib/python3.6/dist-packages (from google-api-python-client>=1.6.7->tf-models-official) (1.17.2)\n",
            "Requirement already satisfied: uritemplate<4dev,>=3.0.0 in /usr/local/lib/python3.6/dist-packages (from google-api-python-client>=1.6.7->tf-models-official) (3.0.1)\n",
            "Requirement already satisfied: cachetools<5.0,>=2.0.0 in /usr/local/lib/python3.6/dist-packages (from google-auth>=1.4.1->google-api-python-client>=1.6.7->tf-models-official) (4.2.0)\n",
            "Requirement already satisfied: rsa<5,>=3.1.4 in /usr/local/lib/python3.6/dist-packages (from google-auth>=1.4.1->google-api-python-client>=1.6.7->tf-models-official) (4.6)\n",
            "Requirement already satisfied: pyasn1-modules>=0.2.1 in /usr/local/lib/python3.6/dist-packages (from google-auth>=1.4.1->google-api-python-client>=1.6.7->tf-models-official) (0.2.8)\n",
            "Requirement already satisfied: setuptools>=40.3.0 in /usr/local/lib/python3.6/dist-packages (from google-auth>=1.4.1->google-api-python-client>=1.6.7->tf-models-official) (51.1.1)\n",
            "Requirement already satisfied: protobuf>=3.6.0 in /usr/local/lib/python3.6/dist-packages (from google-cloud-bigquery>=0.31.0->tf-models-official) (3.14.0)\n",
            "Requirement already satisfied: google-cloud-core<2.0dev,>=1.0.3 in /usr/local/lib/python3.6/dist-packages (from google-cloud-bigquery>=0.31.0->tf-models-official) (1.0.3)\n",
            "Requirement already satisfied: google-resumable-media!=0.4.0,<0.5.0dev,>=0.3.1 in /usr/local/lib/python3.6/dist-packages (from google-cloud-bigquery>=0.31.0->tf-models-official) (0.4.1)\n",
            "Requirement already satisfied: google-api-core<2.0.0dev,>=1.14.0 in /usr/local/lib/python3.6/dist-packages (from google-cloud-core<2.0dev,>=1.0.3->google-cloud-bigquery>=0.31.0->tf-models-official) (1.16.0)\n",
            "Requirement already satisfied: pytz in /usr/local/lib/python3.6/dist-packages (from google-api-core<2.0.0dev,>=1.14.0->google-cloud-core<2.0dev,>=1.0.3->google-cloud-bigquery>=0.31.0->tf-models-official) (2018.9)\n",
            "Requirement already satisfied: googleapis-common-protos<2.0dev,>=1.6.0 in /usr/local/lib/python3.6/dist-packages (from google-api-core<2.0.0dev,>=1.14.0->google-cloud-core<2.0dev,>=1.0.3->google-cloud-bigquery>=0.31.0->tf-models-official) (1.52.0)\n",
            "Requirement already satisfied: requests<3.0.0dev,>=2.18.0 in /usr/local/lib/python3.6/dist-packages (from google-api-core<2.0.0dev,>=1.14.0->google-cloud-core<2.0dev,>=1.0.3->google-cloud-bigquery>=0.31.0->tf-models-official) (2.23.0)\n",
            "Requirement already satisfied: python-dateutil in /usr/local/lib/python3.6/dist-packages (from kaggle>=1.3.9->tf-models-official) (2.8.1)\n",
            "Requirement already satisfied: certifi in /usr/local/lib/python3.6/dist-packages (from kaggle>=1.3.9->tf-models-official) (2020.12.5)\n",
            "Requirement already satisfied: urllib3 in /usr/local/lib/python3.6/dist-packages (from kaggle>=1.3.9->tf-models-official) (1.24.3)\n",
            "Requirement already satisfied: tqdm in /usr/local/lib/python3.6/dist-packages (from kaggle>=1.3.9->tf-models-official) (4.41.1)\n",
            "Requirement already satisfied: python-slugify in /usr/local/lib/python3.6/dist-packages (from kaggle>=1.3.9->tf-models-official) (4.0.1)\n",
            "Collecting py-cpuinfo>=3.3.0\n",
            "  Downloading py-cpuinfo-7.0.0.tar.gz (95 kB)\n",
            "\u001b[K     |████████████████████████████████| 95 kB 4.3 MB/s \n",
            "\u001b[?25hRequirement already satisfied: pyasn1<0.5.0,>=0.4.6 in /usr/local/lib/python3.6/dist-packages (from pyasn1-modules>=0.2.1->google-auth>=1.4.1->google-api-python-client>=1.6.7->tf-models-official) (0.4.8)\n",
            "Collecting pyyaml>=5.1\n",
            "  Downloading PyYAML-5.3.1.tar.gz (269 kB)\n",
            "\u001b[K     |████████████████████████████████| 269 kB 24.9 MB/s \n",
            "\u001b[?25hRequirement already satisfied: idna<3,>=2.5 in /usr/local/lib/python3.6/dist-packages (from requests<3.0.0dev,>=2.18.0->google-api-core<2.0.0dev,>=1.14.0->google-cloud-core<2.0dev,>=1.0.3->google-cloud-bigquery>=0.31.0->tf-models-official) (2.10)\n",
            "Requirement already satisfied: chardet<4,>=3.0.2 in /usr/local/lib/python3.6/dist-packages (from requests<3.0.0dev,>=2.18.0->google-api-core<2.0.0dev,>=1.14.0->google-cloud-core<2.0dev,>=1.0.3->google-cloud-bigquery>=0.31.0->tf-models-official) (3.0.4)\n",
            "Requirement already satisfied: wrapt~=1.12.1 in /usr/local/lib/python3.6/dist-packages (from tensorflow>=2.4.0->tf-models-official) (1.12.1)\n",
            "Requirement already satisfied: flatbuffers~=1.12.0 in /usr/local/lib/python3.6/dist-packages (from tensorflow>=2.4.0->tf-models-official) (1.12)\n",
            "Requirement already satisfied: h5py~=2.10.0 in /usr/local/lib/python3.6/dist-packages (from tensorflow>=2.4.0->tf-models-official) (2.10.0)\n",
            "Requirement already satisfied: wheel~=0.35 in /usr/local/lib/python3.6/dist-packages (from tensorflow>=2.4.0->tf-models-official) (0.36.2)\n",
            "Requirement already satisfied: google-pasta~=0.2 in /usr/local/lib/python3.6/dist-packages (from tensorflow>=2.4.0->tf-models-official) (0.2.0)\n",
            "Requirement already satisfied: termcolor~=1.1.0 in /usr/local/lib/python3.6/dist-packages (from tensorflow>=2.4.0->tf-models-official) (1.1.0)\n",
            "Requirement already satisfied: keras-preprocessing~=1.1.2 in /usr/local/lib/python3.6/dist-packages (from tensorflow>=2.4.0->tf-models-official) (1.1.2)\n",
            "Requirement already satisfied: typing-extensions~=3.7.4 in /usr/local/lib/python3.6/dist-packages (from tensorflow>=2.4.0->tf-models-official) (3.7.4.3)\n",
            "Requirement already satisfied: grpcio~=1.32.0 in /usr/local/lib/python3.6/dist-packages (from tensorflow>=2.4.0->tf-models-official) (1.32.0)\n",
            "Requirement already satisfied: astunparse~=1.6.3 in /usr/local/lib/python3.6/dist-packages (from tensorflow>=2.4.0->tf-models-official) (1.6.3)\n",
            "Requirement already satisfied: gast==0.3.3 in /usr/local/lib/python3.6/dist-packages (from tensorflow>=2.4.0->tf-models-official) (0.3.3)\n",
            "Requirement already satisfied: absl-py~=0.10 in /usr/local/lib/python3.6/dist-packages (from tensorflow>=2.4.0->tf-models-official) (0.10.0)\n",
            "Requirement already satisfied: tensorflow-estimator<2.5.0,>=2.4.0rc0 in /usr/local/lib/python3.6/dist-packages (from tensorflow>=2.4.0->tf-models-official) (2.4.0)\n",
            "Requirement already satisfied: opt-einsum~=3.3.0 in /usr/local/lib/python3.6/dist-packages (from tensorflow>=2.4.0->tf-models-official) (3.3.0)\n",
            "Requirement already satisfied: tensorboard~=2.4 in /usr/local/lib/python3.6/dist-packages (from tensorflow>=2.4.0->tf-models-official) (2.4.1)\n",
            "Requirement already satisfied: markdown>=2.6.8 in /usr/local/lib/python3.6/dist-packages (from tensorboard~=2.4->tensorflow>=2.4.0->tf-models-official) (3.3.3)\n",
            "Requirement already satisfied: werkzeug>=0.11.15 in /usr/local/lib/python3.6/dist-packages (from tensorboard~=2.4->tensorflow>=2.4.0->tf-models-official) (1.0.1)\n",
            "Requirement already satisfied: tensorboard-plugin-wit>=1.6.0 in /usr/local/lib/python3.6/dist-packages (from tensorboard~=2.4->tensorflow>=2.4.0->tf-models-official) (1.7.0)\n",
            "Requirement already satisfied: google-auth-oauthlib<0.5,>=0.4.1 in /usr/local/lib/python3.6/dist-packages (from tensorboard~=2.4->tensorflow>=2.4.0->tf-models-official) (0.4.2)\n",
            "Requirement already satisfied: requests-oauthlib>=0.7.0 in /usr/local/lib/python3.6/dist-packages (from google-auth-oauthlib<0.5,>=0.4.1->tensorboard~=2.4->tensorflow>=2.4.0->tf-models-official) (1.3.0)\n",
            "Requirement already satisfied: importlib-metadata in /usr/local/lib/python3.6/dist-packages (from markdown>=2.6.8->tensorboard~=2.4->tensorflow>=2.4.0->tf-models-official) (3.3.0)\n",
            "Requirement already satisfied: oauthlib>=3.0.0 in /usr/local/lib/python3.6/dist-packages (from requests-oauthlib>=0.7.0->google-auth-oauthlib<0.5,>=0.4.1->tensorboard~=2.4->tensorflow>=2.4.0->tf-models-official) (3.1.0)\n",
            "Collecting tensorflow-model-optimization>=0.4.1\n",
            "  Downloading tensorflow_model_optimization-0.5.0-py2.py3-none-any.whl (172 kB)\n",
            "\u001b[K     |████████████████████████████████| 172 kB 30.2 MB/s \n",
            "\u001b[?25hRequirement already satisfied: dm-tree~=0.1.1 in /usr/local/lib/python3.6/dist-packages (from tensorflow-model-optimization>=0.4.1->tf-models-official) (0.1.5)\n",
            "Collecting tf-slim>=1.1.0\n",
            "  Downloading tf_slim-1.1.0-py2.py3-none-any.whl (352 kB)\n",
            "\u001b[K     |████████████████████████████████| 352 kB 17.5 MB/s \n",
            "\u001b[?25hRequirement already satisfied: zipp>=0.5 in /usr/local/lib/python3.6/dist-packages (from importlib-metadata->markdown>=2.6.8->tensorboard~=2.4->tensorflow>=2.4.0->tf-models-official) (3.4.0)\n",
            "Requirement already satisfied: kiwisolver>=1.0.1 in /usr/local/lib/python3.6/dist-packages (from matplotlib->tf-models-official) (1.3.1)\n",
            "Requirement already satisfied: cycler>=0.10 in /usr/local/lib/python3.6/dist-packages (from matplotlib->tf-models-official) (0.10.0)\n",
            "Requirement already satisfied: pyparsing!=2.0.4,!=2.1.2,!=2.1.6,>=2.0.1 in /usr/local/lib/python3.6/dist-packages (from matplotlib->tf-models-official) (2.4.7)\n",
            "Collecting opencv-python-headless\n",
            "  Downloading opencv_python_headless-4.5.1.48-cp36-cp36m-manylinux2014_x86_64.whl (37.6 MB)\n",
            "\u001b[K     |████████████████████████████████| 37.6 MB 9.0 kB/s \n",
            "\u001b[?25hRequirement already satisfied: text-unidecode>=1.3 in /usr/local/lib/python3.6/dist-packages (from python-slugify->kaggle>=1.3.9->tf-models-official) (1.3)\n",
            "Collecting seqeval\n",
            "  Downloading seqeval-1.2.2.tar.gz (43 kB)\n",
            "\u001b[K     |████████████████████████████████| 43 kB 1.8 MB/s \n",
            "\u001b[?25hRequirement already satisfied: scikit-learn>=0.21.3 in /usr/local/lib/python3.6/dist-packages (from seqeval->tf-models-official) (0.22.2.post1)\n",
            "Requirement already satisfied: joblib>=0.11 in /usr/local/lib/python3.6/dist-packages (from scikit-learn>=0.21.3->seqeval->tf-models-official) (1.0.0)\n",
            "Requirement already satisfied: typeguard in /usr/local/lib/python3.6/dist-packages (from tensorflow-addons->tf-models-official) (2.7.1)\n",
            "Requirement already satisfied: attrs>=18.1.0 in /usr/local/lib/python3.6/dist-packages (from tensorflow-datasets->tf-models-official) (20.3.0)\n",
            "Requirement already satisfied: importlib-resources in /usr/local/lib/python3.6/dist-packages (from tensorflow-datasets->tf-models-official) (4.1.1)\n",
            "Requirement already satisfied: tensorflow-metadata in /usr/local/lib/python3.6/dist-packages (from tensorflow-datasets->tf-models-official) (0.26.0)\n",
            "Requirement already satisfied: promise in /usr/local/lib/python3.6/dist-packages (from tensorflow-datasets->tf-models-official) (2.3)\n",
            "Requirement already satisfied: future in /usr/local/lib/python3.6/dist-packages (from tensorflow-datasets->tf-models-official) (0.16.0)\n",
            "Requirement already satisfied: dill in /usr/local/lib/python3.6/dist-packages (from tensorflow-datasets->tf-models-official) (0.3.3)\n",
            "Building wheels for collected packages: py-cpuinfo, pyyaml, seqeval\n",
            "  Building wheel for py-cpuinfo (setup.py) ... \u001b[?25l\u001b[?25hdone\n",
            "  Created wheel for py-cpuinfo: filename=py_cpuinfo-7.0.0-py3-none-any.whl size=20070 sha256=8408b6c6e3fda841daa169925c3afd40fc170f02b0a7137917bbc1155d305017\n",
            "  Stored in directory: /root/.cache/pip/wheels/46/6d/cc/73a126dc2e09fe56fcec0a7386d255762611fbed1c86d3bbcc\n",
            "  Building wheel for pyyaml (setup.py) ... \u001b[?25l\u001b[?25hdone\n",
            "  Created wheel for pyyaml: filename=PyYAML-5.3.1-cp36-cp36m-linux_x86_64.whl size=44621 sha256=b862243f9f34bb404cf3e572de2994f52db244898bdb339cb124f8acc97d58c0\n",
            "  Stored in directory: /root/.cache/pip/wheels/e5/9d/ad/2ee53cf262cba1ffd8afe1487eef788ea3f260b7e6232a80fc\n",
            "  Building wheel for seqeval (setup.py) ... \u001b[?25l\u001b[?25hdone\n",
            "  Created wheel for seqeval: filename=seqeval-1.2.2-py3-none-any.whl size=16170 sha256=453fa419068750fc30d944c8b76a92d3c3c561db367b641480f54aab640815de\n",
            "  Stored in directory: /root/.cache/pip/wheels/39/29/36/1c4f7905c133e11748ca375960154964082d4fb03478323089\n",
            "Successfully built py-cpuinfo pyyaml seqeval\n",
            "Installing collected packages: tf-slim, tensorflow-model-optimization, seqeval, pyyaml, py-cpuinfo, opencv-python-headless, tf-models-official\n",
            "  Attempting uninstall: pyyaml\n",
            "    Found existing installation: PyYAML 3.13\n",
            "    Uninstalling PyYAML-3.13:\n",
            "      Successfully uninstalled PyYAML-3.13\n",
            "Successfully installed opencv-python-headless-4.5.1.48 py-cpuinfo-7.0.0 pyyaml-5.3.1 seqeval-1.2.2 tensorflow-model-optimization-0.5.0 tf-models-official-2.4.0 tf-slim-1.1.0\n"
          ],
          "name": "stdout"
        },
        {
          "output_type": "display_data",
          "data": {
            "application/vnd.colab-display-data+json": {
              "pip_warning": {
                "packages": [
                  "yaml"
                ]
              }
            }
          },
          "metadata": {
            "tags": []
          }
        }
      ]
    },
    {
      "cell_type": "markdown",
      "metadata": {
        "id": "jR_EHmf-WA4Z"
      },
      "source": [
        "Start training"
      ]
    },
    {
      "cell_type": "code",
      "metadata": {
        "id": "F9_qRuibV7gb",
        "colab": {
          "base_uri": "https://localhost:8080/"
        },
        "outputId": "1e2fcdfb-3059-4017-f6fa-97c6f68fed6d"
      },
      "source": [
        "!pip install tf_slim\n",
        "%cd /content/gdrive/My Drive/TensorFlow/models/research/object_detection\n",
        "os.environ['PYTHONPATH'] += ':/content/gdrive/My Drive/TensorFlow/models/research/:/content/gdrive/My Drive/TensorFlow/models/research/slim'\n",
        "\n",
        "!python model_main_tf2.py --pipeline_config_path=training/colab_ssd_mobilenet_v2_320x320_coco17_tpu-8.config --model_dir=training --alsologtostderr"
      ],
      "execution_count": null,
      "outputs": [
        {
          "output_type": "stream",
          "text": [
            "Requirement already satisfied: tf_slim in /usr/local/lib/python3.6/dist-packages (1.1.0)\n",
            "Requirement already satisfied: absl-py>=0.2.2 in /usr/local/lib/python3.6/dist-packages (from tf_slim) (0.10.0)\n",
            "Requirement already satisfied: six in /usr/local/lib/python3.6/dist-packages (from absl-py>=0.2.2->tf_slim) (1.15.0)\n",
            "/content/gdrive/My Drive/TensorFlow/models/research/object_detection\n",
            "2021-01-18 07:53:31.954734: W tensorflow/stream_executor/platform/default/dso_loader.cc:60] Could not load dynamic library 'libcudart.so.11.0'; dlerror: libcudart.so.11.0: cannot open shared object file: No such file or directory; LD_LIBRARY_PATH: /usr/lib64-nvidia\n",
            "2021-01-18 07:53:31.954811: I tensorflow/stream_executor/cuda/cudart_stub.cc:29] Ignore above cudart dlerror if you do not have a GPU set up on your machine.\n",
            "2021-01-18 07:53:42.801318: I tensorflow/compiler/jit/xla_cpu_device.cc:41] Not creating XLA devices, tf_xla_enable_xla_devices not set\n",
            "2021-01-18 07:53:42.820210: I tensorflow/stream_executor/platform/default/dso_loader.cc:49] Successfully opened dynamic library libcuda.so.1\n",
            "2021-01-18 07:53:42.854925: I tensorflow/stream_executor/cuda/cuda_gpu_executor.cc:941] successful NUMA node read from SysFS had negative value (-1), but there must be at least one NUMA node, so returning NUMA node zero\n",
            "2021-01-18 07:53:42.855868: I tensorflow/core/common_runtime/gpu/gpu_device.cc:1720] Found device 0 with properties: \n",
            "pciBusID: 0000:00:04.0 name: Tesla P100-PCIE-16GB computeCapability: 6.0\n",
            "coreClock: 1.3285GHz coreCount: 56 deviceMemorySize: 15.90GiB deviceMemoryBandwidth: 681.88GiB/s\n",
            "2021-01-18 07:53:42.855996: W tensorflow/stream_executor/platform/default/dso_loader.cc:60] Could not load dynamic library 'libcudart.so.11.0'; dlerror: libcudart.so.11.0: cannot open shared object file: No such file or directory; LD_LIBRARY_PATH: /usr/lib64-nvidia\n",
            "2021-01-18 07:53:42.856951: W tensorflow/stream_executor/platform/default/dso_loader.cc:60] Could not load dynamic library 'libcublas.so.11'; dlerror: libcublas.so.11: cannot open shared object file: No such file or directory; LD_LIBRARY_PATH: /usr/lib64-nvidia\n",
            "2021-01-18 07:53:42.857118: W tensorflow/stream_executor/platform/default/dso_loader.cc:60] Could not load dynamic library 'libcublasLt.so.11'; dlerror: libcublasLt.so.11: cannot open shared object file: No such file or directory; LD_LIBRARY_PATH: /usr/lib64-nvidia\n",
            "2021-01-18 07:53:42.990704: I tensorflow/stream_executor/platform/default/dso_loader.cc:49] Successfully opened dynamic library libcufft.so.10\n",
            "2021-01-18 07:53:43.019180: I tensorflow/stream_executor/platform/default/dso_loader.cc:49] Successfully opened dynamic library libcurand.so.10\n",
            "2021-01-18 07:53:43.306068: I tensorflow/stream_executor/platform/default/dso_loader.cc:49] Successfully opened dynamic library libcusolver.so.10\n",
            "2021-01-18 07:53:43.307340: W tensorflow/stream_executor/platform/default/dso_loader.cc:60] Could not load dynamic library 'libcusparse.so.11'; dlerror: libcusparse.so.11: cannot open shared object file: No such file or directory; LD_LIBRARY_PATH: /usr/lib64-nvidia\n",
            "2021-01-18 07:53:43.308335: W tensorflow/stream_executor/platform/default/dso_loader.cc:60] Could not load dynamic library 'libcudnn.so.8'; dlerror: libcudnn.so.8: cannot open shared object file: No such file or directory; LD_LIBRARY_PATH: /usr/lib64-nvidia\n",
            "2021-01-18 07:53:43.308379: W tensorflow/core/common_runtime/gpu/gpu_device.cc:1757] Cannot dlopen some GPU libraries. Please make sure the missing libraries mentioned above are installed properly if you would like to use GPU. Follow the guide at https://www.tensorflow.org/install/gpu for how to download and setup the required libraries for your platform.\n",
            "Skipping registering GPU devices...\n",
            "2021-01-18 07:53:43.313672: I tensorflow/compiler/jit/xla_gpu_device.cc:99] Not creating XLA devices, tf_xla_enable_xla_devices not set\n",
            "2021-01-18 07:53:43.313738: I tensorflow/core/common_runtime/gpu/gpu_device.cc:1261] Device interconnect StreamExecutor with strength 1 edge matrix:\n",
            "2021-01-18 07:53:43.313760: I tensorflow/core/common_runtime/gpu/gpu_device.cc:1267]      \n",
            "WARNING:tensorflow:There are non-GPU devices in `tf.distribute.Strategy`, not using nccl allreduce.\n",
            "W0118 07:53:43.321745 140462408660864 cross_device_ops.py:1321] There are non-GPU devices in `tf.distribute.Strategy`, not using nccl allreduce.\n",
            "INFO:tensorflow:Using MirroredStrategy with devices ('/job:localhost/replica:0/task:0/device:CPU:0',)\n",
            "I0118 07:53:43.322116 140462408660864 mirrored_strategy.py:350] Using MirroredStrategy with devices ('/job:localhost/replica:0/task:0/device:CPU:0',)\n",
            "INFO:tensorflow:Maybe overwriting train_steps: None\n",
            "I0118 07:53:43.718092 140462408660864 config_util.py:552] Maybe overwriting train_steps: None\n",
            "INFO:tensorflow:Maybe overwriting use_bfloat16: False\n",
            "I0118 07:53:43.718403 140462408660864 config_util.py:552] Maybe overwriting use_bfloat16: False\n",
            "WARNING:tensorflow:From /content/gdrive/My Drive/TensorFlow/models/research/object_detection/model_lib_v2.py:526: StrategyBase.experimental_distribute_datasets_from_function (from tensorflow.python.distribute.distribute_lib) is deprecated and will be removed in a future version.\n",
            "Instructions for updating:\n",
            "rename to distribute_datasets_from_function\n",
            "W0118 07:53:43.824573 140462408660864 deprecation.py:339] From /content/gdrive/My Drive/TensorFlow/models/research/object_detection/model_lib_v2.py:526: StrategyBase.experimental_distribute_datasets_from_function (from tensorflow.python.distribute.distribute_lib) is deprecated and will be removed in a future version.\n",
            "Instructions for updating:\n",
            "rename to distribute_datasets_from_function\n",
            "INFO:tensorflow:Reading unweighted datasets: ['train.record']\n",
            "I0118 07:53:43.845574 140462408660864 dataset_builder.py:148] Reading unweighted datasets: ['train.record']\n",
            "INFO:tensorflow:Reading record datasets for input file: ['train.record']\n",
            "I0118 07:53:43.846063 140462408660864 dataset_builder.py:77] Reading record datasets for input file: ['train.record']\n",
            "INFO:tensorflow:Number of filenames to read: 1\n",
            "I0118 07:53:43.846308 140462408660864 dataset_builder.py:78] Number of filenames to read: 1\n",
            "WARNING:tensorflow:num_readers has been reduced to 1 to match input file shards.\n",
            "W0118 07:53:43.846543 140462408660864 dataset_builder.py:86] num_readers has been reduced to 1 to match input file shards.\n",
            "WARNING:tensorflow:From /content/gdrive/My Drive/TensorFlow/models/research/object_detection/builders/dataset_builder.py:103: parallel_interleave (from tensorflow.python.data.experimental.ops.interleave_ops) is deprecated and will be removed in a future version.\n",
            "Instructions for updating:\n",
            "Use `tf.data.Dataset.interleave(map_func, cycle_length, block_length, num_parallel_calls=tf.data.AUTOTUNE)` instead. If sloppy execution is desired, use `tf.data.Options.experimental_deterministic`.\n",
            "W0118 07:53:43.857563 140462408660864 deprecation.py:339] From /content/gdrive/My Drive/TensorFlow/models/research/object_detection/builders/dataset_builder.py:103: parallel_interleave (from tensorflow.python.data.experimental.ops.interleave_ops) is deprecated and will be removed in a future version.\n",
            "Instructions for updating:\n",
            "Use `tf.data.Dataset.interleave(map_func, cycle_length, block_length, num_parallel_calls=tf.data.AUTOTUNE)` instead. If sloppy execution is desired, use `tf.data.Options.experimental_deterministic`.\n",
            "WARNING:tensorflow:From /content/gdrive/My Drive/TensorFlow/models/research/object_detection/builders/dataset_builder.py:222: DatasetV1.map_with_legacy_function (from tensorflow.python.data.ops.dataset_ops) is deprecated and will be removed in a future version.\n",
            "Instructions for updating:\n",
            "Use `tf.data.Dataset.map()\n",
            "W0118 07:53:43.923510 140462408660864 deprecation.py:339] From /content/gdrive/My Drive/TensorFlow/models/research/object_detection/builders/dataset_builder.py:222: DatasetV1.map_with_legacy_function (from tensorflow.python.data.ops.dataset_ops) is deprecated and will be removed in a future version.\n",
            "Instructions for updating:\n",
            "Use `tf.data.Dataset.map()\n",
            "WARNING:tensorflow:From /usr/local/lib/python3.6/dist-packages/tensorflow/python/util/dispatch.py:201: sparse_to_dense (from tensorflow.python.ops.sparse_ops) is deprecated and will be removed in a future version.\n",
            "Instructions for updating:\n",
            "Create a `tf.sparse.SparseTensor` and use `tf.sparse.to_dense` instead.\n",
            "W0118 07:53:51.981221 140462408660864 deprecation.py:339] From /usr/local/lib/python3.6/dist-packages/tensorflow/python/util/dispatch.py:201: sparse_to_dense (from tensorflow.python.ops.sparse_ops) is deprecated and will be removed in a future version.\n",
            "Instructions for updating:\n",
            "Create a `tf.sparse.SparseTensor` and use `tf.sparse.to_dense` instead.\n",
            "WARNING:tensorflow:From /usr/local/lib/python3.6/dist-packages/tensorflow/python/util/dispatch.py:201: sample_distorted_bounding_box (from tensorflow.python.ops.image_ops_impl) is deprecated and will be removed in a future version.\n",
            "Instructions for updating:\n",
            "`seed2` arg is deprecated.Use sample_distorted_bounding_box_v2 instead.\n",
            "W0118 07:53:55.993501 140462408660864 deprecation.py:339] From /usr/local/lib/python3.6/dist-packages/tensorflow/python/util/dispatch.py:201: sample_distorted_bounding_box (from tensorflow.python.ops.image_ops_impl) is deprecated and will be removed in a future version.\n",
            "Instructions for updating:\n",
            "`seed2` arg is deprecated.Use sample_distorted_bounding_box_v2 instead.\n",
            "WARNING:tensorflow:From /content/gdrive/My Drive/TensorFlow/models/research/object_detection/inputs.py:262: to_float (from tensorflow.python.ops.math_ops) is deprecated and will be removed in a future version.\n",
            "Instructions for updating:\n",
            "Use `tf.cast` instead.\n",
            "W0118 07:53:58.898111 140462408660864 deprecation.py:339] From /content/gdrive/My Drive/TensorFlow/models/research/object_detection/inputs.py:262: to_float (from tensorflow.python.ops.math_ops) is deprecated and will be removed in a future version.\n",
            "Instructions for updating:\n",
            "Use `tf.cast` instead.\n",
            "2021-01-18 07:54:01.585763: I tensorflow/compiler/mlir/mlir_graph_optimization_pass.cc:116] None of the MLIR optimization passes are enabled (registered 2)\n",
            "2021-01-18 07:54:01.594239: I tensorflow/core/platform/profile_utils/cpu_utils.cc:112] CPU Frequency: 2199995000 Hz\n",
            "2021-01-18 07:54:12.314590: I tensorflow/core/kernels/data/shuffle_dataset_op.cc:177] Filling up shuffle buffer (this may take a while): 287 of 2048\n",
            "2021-01-18 07:54:20.895631: I tensorflow/core/kernels/data/shuffle_dataset_op.cc:230] Shuffle buffer filled.\n",
            "/usr/local/lib/python3.6/dist-packages/tensorflow/python/keras/backend.py:434: UserWarning: `tf.keras.backend.set_learning_phase` is deprecated and will be removed after 2020-10-11. To update it, simply pass a True/False value to the `training` argument of the `__call__` method of your layer or model.\n",
            "  warnings.warn('`tf.keras.backend.set_learning_phase` is deprecated and '\n",
            "INFO:tensorflow:depth of additional conv before box predictor: 0\n",
            "I0118 07:54:34.192666 140459791640320 convolutional_keras_box_predictor.py:154] depth of additional conv before box predictor: 0\n",
            "INFO:tensorflow:depth of additional conv before box predictor: 0\n",
            "I0118 07:54:34.193127 140459791640320 convolutional_keras_box_predictor.py:154] depth of additional conv before box predictor: 0\n",
            "INFO:tensorflow:depth of additional conv before box predictor: 0\n",
            "I0118 07:54:34.193355 140459791640320 convolutional_keras_box_predictor.py:154] depth of additional conv before box predictor: 0\n",
            "INFO:tensorflow:depth of additional conv before box predictor: 0\n",
            "I0118 07:54:34.193572 140459791640320 convolutional_keras_box_predictor.py:154] depth of additional conv before box predictor: 0\n",
            "INFO:tensorflow:depth of additional conv before box predictor: 0\n",
            "I0118 07:54:34.193805 140459791640320 convolutional_keras_box_predictor.py:154] depth of additional conv before box predictor: 0\n",
            "INFO:tensorflow:depth of additional conv before box predictor: 0\n",
            "I0118 07:54:34.194022 140459791640320 convolutional_keras_box_predictor.py:154] depth of additional conv before box predictor: 0\n",
            "WARNING:tensorflow:Unresolved object in checkpoint: (root).model._groundtruth_lists\n",
            "W0118 07:54:46.944340 140462408660864 util.py:161] Unresolved object in checkpoint: (root).model._groundtruth_lists\n",
            "WARNING:tensorflow:Unresolved object in checkpoint: (root).model._box_predictor\n",
            "W0118 07:54:46.944753 140462408660864 util.py:161] Unresolved object in checkpoint: (root).model._box_predictor\n",
            "WARNING:tensorflow:Unresolved object in checkpoint: (root).model._batched_prediction_tensor_names\n",
            "W0118 07:54:46.944937 140462408660864 util.py:161] Unresolved object in checkpoint: (root).model._batched_prediction_tensor_names\n",
            "WARNING:tensorflow:Unresolved object in checkpoint: (root).model._box_predictor._prediction_heads\n",
            "W0118 07:54:46.945084 140462408660864 util.py:161] Unresolved object in checkpoint: (root).model._box_predictor._prediction_heads\n",
            "WARNING:tensorflow:Unresolved object in checkpoint: (root).model._box_predictor._sorted_head_names\n",
            "W0118 07:54:46.945208 140462408660864 util.py:161] Unresolved object in checkpoint: (root).model._box_predictor._sorted_head_names\n",
            "WARNING:tensorflow:Unresolved object in checkpoint: (root).model._box_predictor._shared_nets\n",
            "W0118 07:54:46.945354 140462408660864 util.py:161] Unresolved object in checkpoint: (root).model._box_predictor._shared_nets\n",
            "WARNING:tensorflow:Unresolved object in checkpoint: (root).model._box_predictor._prediction_heads.box_encodings\n",
            "W0118 07:54:46.945469 140462408660864 util.py:161] Unresolved object in checkpoint: (root).model._box_predictor._prediction_heads.box_encodings\n",
            "WARNING:tensorflow:Unresolved object in checkpoint: (root).model._box_predictor._prediction_heads.class_predictions_with_background\n",
            "W0118 07:54:46.945589 140462408660864 util.py:161] Unresolved object in checkpoint: (root).model._box_predictor._prediction_heads.class_predictions_with_background\n",
            "WARNING:tensorflow:Unresolved object in checkpoint: (root).model._box_predictor._shared_nets.0\n",
            "W0118 07:54:46.945709 140462408660864 util.py:161] Unresolved object in checkpoint: (root).model._box_predictor._shared_nets.0\n",
            "WARNING:tensorflow:Unresolved object in checkpoint: (root).model._box_predictor._shared_nets.1\n",
            "W0118 07:54:46.945866 140462408660864 util.py:161] Unresolved object in checkpoint: (root).model._box_predictor._shared_nets.1\n",
            "WARNING:tensorflow:Unresolved object in checkpoint: (root).model._box_predictor._shared_nets.2\n",
            "W0118 07:54:46.945992 140462408660864 util.py:161] Unresolved object in checkpoint: (root).model._box_predictor._shared_nets.2\n",
            "WARNING:tensorflow:Unresolved object in checkpoint: (root).model._box_predictor._shared_nets.3\n",
            "W0118 07:54:46.946110 140462408660864 util.py:161] Unresolved object in checkpoint: (root).model._box_predictor._shared_nets.3\n",
            "WARNING:tensorflow:Unresolved object in checkpoint: (root).model._box_predictor._shared_nets.4\n",
            "W0118 07:54:46.946244 140462408660864 util.py:161] Unresolved object in checkpoint: (root).model._box_predictor._shared_nets.4\n",
            "WARNING:tensorflow:Unresolved object in checkpoint: (root).model._box_predictor._shared_nets.5\n",
            "W0118 07:54:46.946368 140462408660864 util.py:161] Unresolved object in checkpoint: (root).model._box_predictor._shared_nets.5\n",
            "WARNING:tensorflow:Unresolved object in checkpoint: (root).model._box_predictor._prediction_heads.box_encodings.0\n",
            "W0118 07:54:46.946509 140462408660864 util.py:161] Unresolved object in checkpoint: (root).model._box_predictor._prediction_heads.box_encodings.0\n",
            "WARNING:tensorflow:Unresolved object in checkpoint: (root).model._box_predictor._prediction_heads.box_encodings.1\n",
            "W0118 07:54:46.946647 140462408660864 util.py:161] Unresolved object in checkpoint: (root).model._box_predictor._prediction_heads.box_encodings.1\n",
            "WARNING:tensorflow:Unresolved object in checkpoint: (root).model._box_predictor._prediction_heads.box_encodings.2\n",
            "W0118 07:54:46.946769 140462408660864 util.py:161] Unresolved object in checkpoint: (root).model._box_predictor._prediction_heads.box_encodings.2\n",
            "WARNING:tensorflow:Unresolved object in checkpoint: (root).model._box_predictor._prediction_heads.box_encodings.3\n",
            "W0118 07:54:46.946903 140462408660864 util.py:161] Unresolved object in checkpoint: (root).model._box_predictor._prediction_heads.box_encodings.3\n",
            "WARNING:tensorflow:Unresolved object in checkpoint: (root).model._box_predictor._prediction_heads.box_encodings.4\n",
            "W0118 07:54:46.947038 140462408660864 util.py:161] Unresolved object in checkpoint: (root).model._box_predictor._prediction_heads.box_encodings.4\n",
            "WARNING:tensorflow:Unresolved object in checkpoint: (root).model._box_predictor._prediction_heads.box_encodings.5\n",
            "W0118 07:54:46.947155 140462408660864 util.py:161] Unresolved object in checkpoint: (root).model._box_predictor._prediction_heads.box_encodings.5\n",
            "WARNING:tensorflow:Unresolved object in checkpoint: (root).model._box_predictor._prediction_heads.class_predictions_with_background.0\n",
            "W0118 07:54:46.947286 140462408660864 util.py:161] Unresolved object in checkpoint: (root).model._box_predictor._prediction_heads.class_predictions_with_background.0\n",
            "WARNING:tensorflow:Unresolved object in checkpoint: (root).model._box_predictor._prediction_heads.class_predictions_with_background.1\n",
            "W0118 07:54:46.947423 140462408660864 util.py:161] Unresolved object in checkpoint: (root).model._box_predictor._prediction_heads.class_predictions_with_background.1\n",
            "WARNING:tensorflow:Unresolved object in checkpoint: (root).model._box_predictor._prediction_heads.class_predictions_with_background.2\n",
            "W0118 07:54:46.947541 140462408660864 util.py:161] Unresolved object in checkpoint: (root).model._box_predictor._prediction_heads.class_predictions_with_background.2\n",
            "WARNING:tensorflow:Unresolved object in checkpoint: (root).model._box_predictor._prediction_heads.class_predictions_with_background.3\n",
            "W0118 07:54:46.947675 140462408660864 util.py:161] Unresolved object in checkpoint: (root).model._box_predictor._prediction_heads.class_predictions_with_background.3\n",
            "WARNING:tensorflow:Unresolved object in checkpoint: (root).model._box_predictor._prediction_heads.class_predictions_with_background.4\n",
            "W0118 07:54:46.947815 140462408660864 util.py:161] Unresolved object in checkpoint: (root).model._box_predictor._prediction_heads.class_predictions_with_background.4\n",
            "WARNING:tensorflow:Unresolved object in checkpoint: (root).model._box_predictor._prediction_heads.class_predictions_with_background.5\n",
            "W0118 07:54:46.947943 140462408660864 util.py:161] Unresolved object in checkpoint: (root).model._box_predictor._prediction_heads.class_predictions_with_background.5\n",
            "WARNING:tensorflow:Unresolved object in checkpoint: (root).model._box_predictor._prediction_heads.box_encodings.0._box_encoder_layers\n",
            "W0118 07:54:46.948129 140462408660864 util.py:161] Unresolved object in checkpoint: (root).model._box_predictor._prediction_heads.box_encodings.0._box_encoder_layers\n",
            "WARNING:tensorflow:Unresolved object in checkpoint: (root).model._box_predictor._prediction_heads.box_encodings.1._box_encoder_layers\n",
            "W0118 07:54:46.948250 140462408660864 util.py:161] Unresolved object in checkpoint: (root).model._box_predictor._prediction_heads.box_encodings.1._box_encoder_layers\n",
            "WARNING:tensorflow:Unresolved object in checkpoint: (root).model._box_predictor._prediction_heads.box_encodings.2._box_encoder_layers\n",
            "W0118 07:54:46.948369 140462408660864 util.py:161] Unresolved object in checkpoint: (root).model._box_predictor._prediction_heads.box_encodings.2._box_encoder_layers\n",
            "WARNING:tensorflow:Unresolved object in checkpoint: (root).model._box_predictor._prediction_heads.box_encodings.3._box_encoder_layers\n",
            "W0118 07:54:46.948503 140462408660864 util.py:161] Unresolved object in checkpoint: (root).model._box_predictor._prediction_heads.box_encodings.3._box_encoder_layers\n",
            "WARNING:tensorflow:Unresolved object in checkpoint: (root).model._box_predictor._prediction_heads.box_encodings.4._box_encoder_layers\n",
            "W0118 07:54:46.948618 140462408660864 util.py:161] Unresolved object in checkpoint: (root).model._box_predictor._prediction_heads.box_encodings.4._box_encoder_layers\n",
            "WARNING:tensorflow:Unresolved object in checkpoint: (root).model._box_predictor._prediction_heads.box_encodings.5._box_encoder_layers\n",
            "W0118 07:54:46.948735 140462408660864 util.py:161] Unresolved object in checkpoint: (root).model._box_predictor._prediction_heads.box_encodings.5._box_encoder_layers\n",
            "WARNING:tensorflow:Unresolved object in checkpoint: (root).model._box_predictor._prediction_heads.class_predictions_with_background.0._class_predictor_layers\n",
            "W0118 07:54:46.948872 140462408660864 util.py:161] Unresolved object in checkpoint: (root).model._box_predictor._prediction_heads.class_predictions_with_background.0._class_predictor_layers\n",
            "WARNING:tensorflow:Unresolved object in checkpoint: (root).model._box_predictor._prediction_heads.class_predictions_with_background.1._class_predictor_layers\n",
            "W0118 07:54:46.949006 140462408660864 util.py:161] Unresolved object in checkpoint: (root).model._box_predictor._prediction_heads.class_predictions_with_background.1._class_predictor_layers\n",
            "WARNING:tensorflow:Unresolved object in checkpoint: (root).model._box_predictor._prediction_heads.class_predictions_with_background.2._class_predictor_layers\n",
            "W0118 07:54:46.949137 140462408660864 util.py:161] Unresolved object in checkpoint: (root).model._box_predictor._prediction_heads.class_predictions_with_background.2._class_predictor_layers\n",
            "WARNING:tensorflow:Unresolved object in checkpoint: (root).model._box_predictor._prediction_heads.class_predictions_with_background.3._class_predictor_layers\n",
            "W0118 07:54:46.949265 140462408660864 util.py:161] Unresolved object in checkpoint: (root).model._box_predictor._prediction_heads.class_predictions_with_background.3._class_predictor_layers\n",
            "WARNING:tensorflow:Unresolved object in checkpoint: (root).model._box_predictor._prediction_heads.class_predictions_with_background.4._class_predictor_layers\n",
            "W0118 07:54:46.949399 140462408660864 util.py:161] Unresolved object in checkpoint: (root).model._box_predictor._prediction_heads.class_predictions_with_background.4._class_predictor_layers\n",
            "WARNING:tensorflow:Unresolved object in checkpoint: (root).model._box_predictor._prediction_heads.class_predictions_with_background.5._class_predictor_layers\n",
            "W0118 07:54:46.949516 140462408660864 util.py:161] Unresolved object in checkpoint: (root).model._box_predictor._prediction_heads.class_predictions_with_background.5._class_predictor_layers\n",
            "WARNING:tensorflow:Unresolved object in checkpoint: (root).model._box_predictor._prediction_heads.box_encodings.0._box_encoder_layers.0\n",
            "W0118 07:54:46.949641 140462408660864 util.py:161] Unresolved object in checkpoint: (root).model._box_predictor._prediction_heads.box_encodings.0._box_encoder_layers.0\n",
            "WARNING:tensorflow:Unresolved object in checkpoint: (root).model._box_predictor._prediction_heads.box_encodings.1._box_encoder_layers.0\n",
            "W0118 07:54:46.949758 140462408660864 util.py:161] Unresolved object in checkpoint: (root).model._box_predictor._prediction_heads.box_encodings.1._box_encoder_layers.0\n",
            "WARNING:tensorflow:Unresolved object in checkpoint: (root).model._box_predictor._prediction_heads.box_encodings.2._box_encoder_layers.0\n",
            "W0118 07:54:46.949907 140462408660864 util.py:161] Unresolved object in checkpoint: (root).model._box_predictor._prediction_heads.box_encodings.2._box_encoder_layers.0\n",
            "WARNING:tensorflow:Unresolved object in checkpoint: (root).model._box_predictor._prediction_heads.box_encodings.3._box_encoder_layers.0\n",
            "W0118 07:54:46.950032 140462408660864 util.py:161] Unresolved object in checkpoint: (root).model._box_predictor._prediction_heads.box_encodings.3._box_encoder_layers.0\n",
            "WARNING:tensorflow:Unresolved object in checkpoint: (root).model._box_predictor._prediction_heads.box_encodings.4._box_encoder_layers.0\n",
            "W0118 07:54:46.950151 140462408660864 util.py:161] Unresolved object in checkpoint: (root).model._box_predictor._prediction_heads.box_encodings.4._box_encoder_layers.0\n",
            "WARNING:tensorflow:Unresolved object in checkpoint: (root).model._box_predictor._prediction_heads.box_encodings.5._box_encoder_layers.0\n",
            "W0118 07:54:46.950279 140462408660864 util.py:161] Unresolved object in checkpoint: (root).model._box_predictor._prediction_heads.box_encodings.5._box_encoder_layers.0\n",
            "WARNING:tensorflow:Unresolved object in checkpoint: (root).model._box_predictor._prediction_heads.class_predictions_with_background.0._class_predictor_layers.0\n",
            "W0118 07:54:46.950415 140462408660864 util.py:161] Unresolved object in checkpoint: (root).model._box_predictor._prediction_heads.class_predictions_with_background.0._class_predictor_layers.0\n",
            "WARNING:tensorflow:Unresolved object in checkpoint: (root).model._box_predictor._prediction_heads.class_predictions_with_background.1._class_predictor_layers.0\n",
            "W0118 07:54:46.950535 140462408660864 util.py:161] Unresolved object in checkpoint: (root).model._box_predictor._prediction_heads.class_predictions_with_background.1._class_predictor_layers.0\n",
            "WARNING:tensorflow:Unresolved object in checkpoint: (root).model._box_predictor._prediction_heads.class_predictions_with_background.2._class_predictor_layers.0\n",
            "W0118 07:54:46.950654 140462408660864 util.py:161] Unresolved object in checkpoint: (root).model._box_predictor._prediction_heads.class_predictions_with_background.2._class_predictor_layers.0\n",
            "WARNING:tensorflow:Unresolved object in checkpoint: (root).model._box_predictor._prediction_heads.class_predictions_with_background.3._class_predictor_layers.0\n",
            "W0118 07:54:46.950775 140462408660864 util.py:161] Unresolved object in checkpoint: (root).model._box_predictor._prediction_heads.class_predictions_with_background.3._class_predictor_layers.0\n",
            "WARNING:tensorflow:Unresolved object in checkpoint: (root).model._box_predictor._prediction_heads.class_predictions_with_background.4._class_predictor_layers.0\n",
            "W0118 07:54:46.950907 140462408660864 util.py:161] Unresolved object in checkpoint: (root).model._box_predictor._prediction_heads.class_predictions_with_background.4._class_predictor_layers.0\n",
            "WARNING:tensorflow:Unresolved object in checkpoint: (root).model._box_predictor._prediction_heads.class_predictions_with_background.5._class_predictor_layers.0\n",
            "W0118 07:54:46.951026 140462408660864 util.py:161] Unresolved object in checkpoint: (root).model._box_predictor._prediction_heads.class_predictions_with_background.5._class_predictor_layers.0\n",
            "WARNING:tensorflow:Unresolved object in checkpoint: (root).model._box_predictor._prediction_heads.box_encodings.0._box_encoder_layers.0.kernel\n",
            "W0118 07:54:46.951157 140462408660864 util.py:161] Unresolved object in checkpoint: (root).model._box_predictor._prediction_heads.box_encodings.0._box_encoder_layers.0.kernel\n",
            "WARNING:tensorflow:Unresolved object in checkpoint: (root).model._box_predictor._prediction_heads.box_encodings.0._box_encoder_layers.0.bias\n",
            "W0118 07:54:46.951283 140462408660864 util.py:161] Unresolved object in checkpoint: (root).model._box_predictor._prediction_heads.box_encodings.0._box_encoder_layers.0.bias\n",
            "WARNING:tensorflow:Unresolved object in checkpoint: (root).model._box_predictor._prediction_heads.box_encodings.1._box_encoder_layers.0.kernel\n",
            "W0118 07:54:46.951402 140462408660864 util.py:161] Unresolved object in checkpoint: (root).model._box_predictor._prediction_heads.box_encodings.1._box_encoder_layers.0.kernel\n",
            "WARNING:tensorflow:Unresolved object in checkpoint: (root).model._box_predictor._prediction_heads.box_encodings.1._box_encoder_layers.0.bias\n",
            "W0118 07:54:46.951521 140462408660864 util.py:161] Unresolved object in checkpoint: (root).model._box_predictor._prediction_heads.box_encodings.1._box_encoder_layers.0.bias\n",
            "WARNING:tensorflow:Unresolved object in checkpoint: (root).model._box_predictor._prediction_heads.box_encodings.2._box_encoder_layers.0.kernel\n",
            "W0118 07:54:46.951639 140462408660864 util.py:161] Unresolved object in checkpoint: (root).model._box_predictor._prediction_heads.box_encodings.2._box_encoder_layers.0.kernel\n",
            "WARNING:tensorflow:Unresolved object in checkpoint: (root).model._box_predictor._prediction_heads.box_encodings.2._box_encoder_layers.0.bias\n",
            "W0118 07:54:46.951789 140462408660864 util.py:161] Unresolved object in checkpoint: (root).model._box_predictor._prediction_heads.box_encodings.2._box_encoder_layers.0.bias\n",
            "WARNING:tensorflow:Unresolved object in checkpoint: (root).model._box_predictor._prediction_heads.box_encodings.3._box_encoder_layers.0.kernel\n",
            "W0118 07:54:46.951916 140462408660864 util.py:161] Unresolved object in checkpoint: (root).model._box_predictor._prediction_heads.box_encodings.3._box_encoder_layers.0.kernel\n",
            "WARNING:tensorflow:Unresolved object in checkpoint: (root).model._box_predictor._prediction_heads.box_encodings.3._box_encoder_layers.0.bias\n",
            "W0118 07:54:46.952034 140462408660864 util.py:161] Unresolved object in checkpoint: (root).model._box_predictor._prediction_heads.box_encodings.3._box_encoder_layers.0.bias\n",
            "WARNING:tensorflow:Unresolved object in checkpoint: (root).model._box_predictor._prediction_heads.box_encodings.4._box_encoder_layers.0.kernel\n",
            "W0118 07:54:46.952152 140462408660864 util.py:161] Unresolved object in checkpoint: (root).model._box_predictor._prediction_heads.box_encodings.4._box_encoder_layers.0.kernel\n",
            "WARNING:tensorflow:Unresolved object in checkpoint: (root).model._box_predictor._prediction_heads.box_encodings.4._box_encoder_layers.0.bias\n",
            "W0118 07:54:46.952281 140462408660864 util.py:161] Unresolved object in checkpoint: (root).model._box_predictor._prediction_heads.box_encodings.4._box_encoder_layers.0.bias\n",
            "WARNING:tensorflow:Unresolved object in checkpoint: (root).model._box_predictor._prediction_heads.box_encodings.5._box_encoder_layers.0.kernel\n",
            "W0118 07:54:47.041854 140462408660864 util.py:161] Unresolved object in checkpoint: (root).model._box_predictor._prediction_heads.box_encodings.5._box_encoder_layers.0.kernel\n",
            "WARNING:tensorflow:Unresolved object in checkpoint: (root).model._box_predictor._prediction_heads.box_encodings.5._box_encoder_layers.0.bias\n",
            "W0118 07:54:47.042067 140462408660864 util.py:161] Unresolved object in checkpoint: (root).model._box_predictor._prediction_heads.box_encodings.5._box_encoder_layers.0.bias\n",
            "WARNING:tensorflow:Unresolved object in checkpoint: (root).model._box_predictor._prediction_heads.class_predictions_with_background.0._class_predictor_layers.0.kernel\n",
            "W0118 07:54:47.042230 140462408660864 util.py:161] Unresolved object in checkpoint: (root).model._box_predictor._prediction_heads.class_predictions_with_background.0._class_predictor_layers.0.kernel\n",
            "WARNING:tensorflow:Unresolved object in checkpoint: (root).model._box_predictor._prediction_heads.class_predictions_with_background.0._class_predictor_layers.0.bias\n",
            "W0118 07:54:47.042394 140462408660864 util.py:161] Unresolved object in checkpoint: (root).model._box_predictor._prediction_heads.class_predictions_with_background.0._class_predictor_layers.0.bias\n",
            "WARNING:tensorflow:Unresolved object in checkpoint: (root).model._box_predictor._prediction_heads.class_predictions_with_background.1._class_predictor_layers.0.kernel\n",
            "W0118 07:54:47.042544 140462408660864 util.py:161] Unresolved object in checkpoint: (root).model._box_predictor._prediction_heads.class_predictions_with_background.1._class_predictor_layers.0.kernel\n",
            "WARNING:tensorflow:Unresolved object in checkpoint: (root).model._box_predictor._prediction_heads.class_predictions_with_background.1._class_predictor_layers.0.bias\n",
            "W0118 07:54:47.042718 140462408660864 util.py:161] Unresolved object in checkpoint: (root).model._box_predictor._prediction_heads.class_predictions_with_background.1._class_predictor_layers.0.bias\n",
            "WARNING:tensorflow:Unresolved object in checkpoint: (root).model._box_predictor._prediction_heads.class_predictions_with_background.2._class_predictor_layers.0.kernel\n",
            "W0118 07:54:47.042901 140462408660864 util.py:161] Unresolved object in checkpoint: (root).model._box_predictor._prediction_heads.class_predictions_with_background.2._class_predictor_layers.0.kernel\n",
            "WARNING:tensorflow:Unresolved object in checkpoint: (root).model._box_predictor._prediction_heads.class_predictions_with_background.2._class_predictor_layers.0.bias\n",
            "W0118 07:54:47.043060 140462408660864 util.py:161] Unresolved object in checkpoint: (root).model._box_predictor._prediction_heads.class_predictions_with_background.2._class_predictor_layers.0.bias\n",
            "WARNING:tensorflow:Unresolved object in checkpoint: (root).model._box_predictor._prediction_heads.class_predictions_with_background.3._class_predictor_layers.0.kernel\n",
            "W0118 07:54:47.043216 140462408660864 util.py:161] Unresolved object in checkpoint: (root).model._box_predictor._prediction_heads.class_predictions_with_background.3._class_predictor_layers.0.kernel\n",
            "WARNING:tensorflow:Unresolved object in checkpoint: (root).model._box_predictor._prediction_heads.class_predictions_with_background.3._class_predictor_layers.0.bias\n",
            "W0118 07:54:47.043377 140462408660864 util.py:161] Unresolved object in checkpoint: (root).model._box_predictor._prediction_heads.class_predictions_with_background.3._class_predictor_layers.0.bias\n",
            "WARNING:tensorflow:Unresolved object in checkpoint: (root).model._box_predictor._prediction_heads.class_predictions_with_background.4._class_predictor_layers.0.kernel\n",
            "W0118 07:54:47.043529 140462408660864 util.py:161] Unresolved object in checkpoint: (root).model._box_predictor._prediction_heads.class_predictions_with_background.4._class_predictor_layers.0.kernel\n",
            "WARNING:tensorflow:Unresolved object in checkpoint: (root).model._box_predictor._prediction_heads.class_predictions_with_background.4._class_predictor_layers.0.bias\n",
            "W0118 07:54:47.043704 140462408660864 util.py:161] Unresolved object in checkpoint: (root).model._box_predictor._prediction_heads.class_predictions_with_background.4._class_predictor_layers.0.bias\n",
            "WARNING:tensorflow:Unresolved object in checkpoint: (root).model._box_predictor._prediction_heads.class_predictions_with_background.5._class_predictor_layers.0.kernel\n",
            "W0118 07:54:47.043901 140462408660864 util.py:161] Unresolved object in checkpoint: (root).model._box_predictor._prediction_heads.class_predictions_with_background.5._class_predictor_layers.0.kernel\n",
            "WARNING:tensorflow:Unresolved object in checkpoint: (root).model._box_predictor._prediction_heads.class_predictions_with_background.5._class_predictor_layers.0.bias\n",
            "W0118 07:54:47.044068 140462408660864 util.py:161] Unresolved object in checkpoint: (root).model._box_predictor._prediction_heads.class_predictions_with_background.5._class_predictor_layers.0.bias\n",
            "WARNING:tensorflow:A checkpoint was restored (e.g. tf.train.Checkpoint.restore or tf.keras.Model.load_weights) but not all checkpointed values were used. See above for specific issues. Use expect_partial() on the load status object, e.g. tf.train.Checkpoint.restore(...).expect_partial(), to silence these warnings, or use assert_consumed() to make the check explicit. See https://www.tensorflow.org/guide/checkpoint#loading_mechanics for details.\n",
            "W0118 07:54:47.044238 140462408660864 util.py:169] A checkpoint was restored (e.g. tf.train.Checkpoint.restore or tf.keras.Model.load_weights) but not all checkpointed values were used. See above for specific issues. Use expect_partial() on the load status object, e.g. tf.train.Checkpoint.restore(...).expect_partial(), to silence these warnings, or use assert_consumed() to make the check explicit. See https://www.tensorflow.org/guide/checkpoint#loading_mechanics for details.\n",
            "WARNING:tensorflow:From /usr/local/lib/python3.6/dist-packages/tensorflow/python/util/deprecation.py:605: calling map_fn_v2 (from tensorflow.python.ops.map_fn) with dtype is deprecated and will be removed in a future version.\n",
            "Instructions for updating:\n",
            "Use fn_output_signature instead\n",
            "W0118 07:54:54.668482 140459791640320 deprecation.py:537] From /usr/local/lib/python3.6/dist-packages/tensorflow/python/util/deprecation.py:605: calling map_fn_v2 (from tensorflow.python.ops.map_fn) with dtype is deprecated and will be removed in a future version.\n",
            "Instructions for updating:\n",
            "Use fn_output_signature instead\n",
            "2021-01-18 07:55:13.953158: I tensorflow/core/kernels/data/shuffle_dataset_op.cc:177] Filling up shuffle buffer (this may take a while): 1826 of 2048\n",
            "2021-01-18 07:55:14.949320: I tensorflow/core/kernels/data/shuffle_dataset_op.cc:230] Shuffle buffer filled.\n",
            "INFO:tensorflow:Step 100 per-step time 0.636s loss=3.028\n",
            "I0118 07:56:24.171299 140462408660864 model_lib_v2.py:652] Step 100 per-step time 0.636s loss=3.028\n",
            "INFO:tensorflow:Step 200 per-step time 0.700s loss=2.350\n",
            "I0118 07:57:29.078578 140462408660864 model_lib_v2.py:652] Step 200 per-step time 0.700s loss=2.350\n",
            "INFO:tensorflow:Step 300 per-step time 0.594s loss=1.682\n",
            "I0118 07:58:32.755079 140462408660864 model_lib_v2.py:652] Step 300 per-step time 0.594s loss=1.682\n",
            "INFO:tensorflow:Step 400 per-step time 0.597s loss=0.611\n",
            "I0118 07:59:36.981250 140462408660864 model_lib_v2.py:652] Step 400 per-step time 0.597s loss=0.611\n",
            "INFO:tensorflow:Step 500 per-step time 0.598s loss=2.592\n",
            "I0118 08:00:42.590880 140462408660864 model_lib_v2.py:652] Step 500 per-step time 0.598s loss=2.592\n",
            "INFO:tensorflow:Step 600 per-step time 0.617s loss=1.208\n",
            "I0118 08:01:45.569919 140462408660864 model_lib_v2.py:652] Step 600 per-step time 0.617s loss=1.208\n",
            "INFO:tensorflow:Step 700 per-step time 0.690s loss=0.819\n",
            "I0118 08:02:49.521104 140462408660864 model_lib_v2.py:652] Step 700 per-step time 0.690s loss=0.819\n",
            "INFO:tensorflow:Step 800 per-step time 0.678s loss=0.807\n",
            "I0118 08:03:52.972166 140462408660864 model_lib_v2.py:652] Step 800 per-step time 0.678s loss=0.807\n",
            "INFO:tensorflow:Step 900 per-step time 0.666s loss=1.166\n",
            "I0118 08:04:57.222517 140462408660864 model_lib_v2.py:652] Step 900 per-step time 0.666s loss=1.166\n",
            "INFO:tensorflow:Step 1000 per-step time 0.628s loss=1.394\n",
            "I0118 08:05:59.684830 140462408660864 model_lib_v2.py:652] Step 1000 per-step time 0.628s loss=1.394\n",
            "INFO:tensorflow:Step 1100 per-step time 0.606s loss=0.568\n",
            "I0118 08:07:05.931239 140462408660864 model_lib_v2.py:652] Step 1100 per-step time 0.606s loss=0.568\n",
            "INFO:tensorflow:Step 1200 per-step time 0.581s loss=0.858\n",
            "I0118 08:08:10.713357 140462408660864 model_lib_v2.py:652] Step 1200 per-step time 0.581s loss=0.858\n",
            "INFO:tensorflow:Step 1300 per-step time 0.638s loss=2.097\n",
            "I0118 08:09:14.614853 140462408660864 model_lib_v2.py:652] Step 1300 per-step time 0.638s loss=2.097\n",
            "INFO:tensorflow:Step 1400 per-step time 0.617s loss=0.960\n",
            "I0118 08:10:18.466552 140462408660864 model_lib_v2.py:652] Step 1400 per-step time 0.617s loss=0.960\n",
            "INFO:tensorflow:Step 1500 per-step time 0.640s loss=0.331\n",
            "I0118 08:11:21.381685 140462408660864 model_lib_v2.py:652] Step 1500 per-step time 0.640s loss=0.331\n",
            "INFO:tensorflow:Step 1600 per-step time 0.659s loss=0.778\n",
            "I0118 08:12:24.538876 140462408660864 model_lib_v2.py:652] Step 1600 per-step time 0.659s loss=0.778\n",
            "INFO:tensorflow:Step 1700 per-step time 0.632s loss=1.397\n",
            "I0118 08:13:28.967769 140462408660864 model_lib_v2.py:652] Step 1700 per-step time 0.632s loss=1.397\n",
            "INFO:tensorflow:Step 1800 per-step time 0.617s loss=1.204\n",
            "I0118 08:14:30.674473 140462408660864 model_lib_v2.py:652] Step 1800 per-step time 0.617s loss=1.204\n",
            "INFO:tensorflow:Step 1900 per-step time 0.611s loss=0.464\n",
            "I0118 08:15:32.336653 140462408660864 model_lib_v2.py:652] Step 1900 per-step time 0.611s loss=0.464\n",
            "INFO:tensorflow:Step 2000 per-step time 0.744s loss=0.838\n",
            "I0118 08:16:35.718343 140462408660864 model_lib_v2.py:652] Step 2000 per-step time 0.744s loss=0.838\n",
            "INFO:tensorflow:Step 2100 per-step time 0.585s loss=0.649\n",
            "I0118 08:17:38.460623 140462408660864 model_lib_v2.py:652] Step 2100 per-step time 0.585s loss=0.649\n",
            "INFO:tensorflow:Step 2200 per-step time 0.580s loss=0.585\n",
            "I0118 08:18:39.880672 140462408660864 model_lib_v2.py:652] Step 2200 per-step time 0.580s loss=0.585\n",
            "INFO:tensorflow:Step 2300 per-step time 0.607s loss=0.676\n",
            "I0118 08:19:41.921009 140462408660864 model_lib_v2.py:652] Step 2300 per-step time 0.607s loss=0.676\n",
            "INFO:tensorflow:Step 2400 per-step time 0.568s loss=1.736\n",
            "I0118 08:20:43.904273 140462408660864 model_lib_v2.py:652] Step 2400 per-step time 0.568s loss=1.736\n",
            "INFO:tensorflow:Step 2500 per-step time 0.555s loss=0.307\n",
            "I0118 08:21:44.271609 140462408660864 model_lib_v2.py:652] Step 2500 per-step time 0.555s loss=0.307\n",
            "INFO:tensorflow:Step 2600 per-step time 0.636s loss=0.516\n",
            "I0118 08:22:46.942753 140462408660864 model_lib_v2.py:652] Step 2600 per-step time 0.636s loss=0.516\n",
            "INFO:tensorflow:Step 2700 per-step time 0.569s loss=0.309\n",
            "I0118 08:23:48.471126 140462408660864 model_lib_v2.py:652] Step 2700 per-step time 0.569s loss=0.309\n",
            "INFO:tensorflow:Step 2800 per-step time 0.499s loss=0.945\n",
            "I0118 08:24:50.527141 140462408660864 model_lib_v2.py:652] Step 2800 per-step time 0.499s loss=0.945\n",
            "INFO:tensorflow:Step 2900 per-step time 0.611s loss=0.774\n",
            "I0118 08:25:51.787226 140462408660864 model_lib_v2.py:652] Step 2900 per-step time 0.611s loss=0.774\n",
            "INFO:tensorflow:Step 3000 per-step time 0.550s loss=1.072\n",
            "I0118 08:26:53.424205 140462408660864 model_lib_v2.py:652] Step 3000 per-step time 0.550s loss=1.072\n",
            "INFO:tensorflow:Step 3100 per-step time 0.499s loss=0.416\n",
            "I0118 08:27:55.661345 140462408660864 model_lib_v2.py:652] Step 3100 per-step time 0.499s loss=0.416\n",
            "INFO:tensorflow:Step 3200 per-step time 0.577s loss=0.392\n",
            "I0118 08:28:56.477243 140462408660864 model_lib_v2.py:652] Step 3200 per-step time 0.577s loss=0.392\n",
            "INFO:tensorflow:Step 3300 per-step time 0.640s loss=0.398\n",
            "I0118 08:29:58.097162 140462408660864 model_lib_v2.py:652] Step 3300 per-step time 0.640s loss=0.398\n",
            "INFO:tensorflow:Step 3400 per-step time 0.581s loss=1.093\n",
            "I0118 08:30:59.023581 140462408660864 model_lib_v2.py:652] Step 3400 per-step time 0.581s loss=1.093\n",
            "INFO:tensorflow:Step 3500 per-step time 0.586s loss=0.677\n",
            "I0118 08:32:00.768776 140462408660864 model_lib_v2.py:652] Step 3500 per-step time 0.586s loss=0.677\n",
            "INFO:tensorflow:Step 3600 per-step time 0.677s loss=0.459\n",
            "I0118 08:33:01.829489 140462408660864 model_lib_v2.py:652] Step 3600 per-step time 0.677s loss=0.459\n",
            "INFO:tensorflow:Step 3700 per-step time 0.603s loss=0.491\n",
            "I0118 08:34:03.270876 140462408660864 model_lib_v2.py:652] Step 3700 per-step time 0.603s loss=0.491\n",
            "INFO:tensorflow:Step 3800 per-step time 0.685s loss=1.534\n",
            "I0118 08:35:04.604085 140462408660864 model_lib_v2.py:652] Step 3800 per-step time 0.685s loss=1.534\n",
            "INFO:tensorflow:Step 3900 per-step time 0.432s loss=0.575\n",
            "I0118 08:36:05.502120 140462408660864 model_lib_v2.py:652] Step 3900 per-step time 0.432s loss=0.575\n",
            "INFO:tensorflow:Step 4000 per-step time 0.599s loss=0.469\n",
            "I0118 08:37:06.503866 140462408660864 model_lib_v2.py:652] Step 4000 per-step time 0.599s loss=0.469\n",
            "INFO:tensorflow:Step 4100 per-step time 0.644s loss=0.697\n",
            "I0118 08:38:10.343210 140462408660864 model_lib_v2.py:652] Step 4100 per-step time 0.644s loss=0.697\n",
            "INFO:tensorflow:Step 4200 per-step time 0.617s loss=0.690\n",
            "I0118 08:39:12.405952 140462408660864 model_lib_v2.py:652] Step 4200 per-step time 0.617s loss=0.690\n",
            "INFO:tensorflow:Step 4300 per-step time 0.634s loss=1.064\n",
            "I0118 08:40:14.458888 140462408660864 model_lib_v2.py:652] Step 4300 per-step time 0.634s loss=1.064\n",
            "INFO:tensorflow:Step 4400 per-step time 0.642s loss=1.192\n",
            "I0118 08:41:18.314432 140462408660864 model_lib_v2.py:652] Step 4400 per-step time 0.642s loss=1.192\n",
            "INFO:tensorflow:Step 4500 per-step time 0.585s loss=0.382\n",
            "I0118 08:42:20.591526 140462408660864 model_lib_v2.py:652] Step 4500 per-step time 0.585s loss=0.382\n",
            "INFO:tensorflow:Step 4600 per-step time 0.512s loss=0.493\n",
            "I0118 08:43:21.731831 140462408660864 model_lib_v2.py:652] Step 4600 per-step time 0.512s loss=0.493\n",
            "INFO:tensorflow:Step 4700 per-step time 0.626s loss=0.588\n",
            "I0118 08:44:23.898174 140462408660864 model_lib_v2.py:652] Step 4700 per-step time 0.626s loss=0.588\n",
            "INFO:tensorflow:Step 4800 per-step time 0.584s loss=0.459\n",
            "I0118 08:45:25.543766 140462408660864 model_lib_v2.py:652] Step 4800 per-step time 0.584s loss=0.459\n",
            "INFO:tensorflow:Step 4900 per-step time 0.657s loss=0.362\n",
            "I0118 08:46:27.252904 140462408660864 model_lib_v2.py:652] Step 4900 per-step time 0.657s loss=0.362\n",
            "INFO:tensorflow:Step 5000 per-step time 0.584s loss=0.394\n",
            "I0118 08:47:29.417344 140462408660864 model_lib_v2.py:652] Step 5000 per-step time 0.584s loss=0.394\n",
            "INFO:tensorflow:Step 5100 per-step time 0.578s loss=0.377\n",
            "I0118 08:48:31.226685 140462408660864 model_lib_v2.py:652] Step 5100 per-step time 0.578s loss=0.377\n",
            "Traceback (most recent call last):\n",
            "  File \"model_main_tf2.py\", line 113, in <module>\n",
            "    tf.compat.v1.app.run()\n",
            "  File \"/usr/local/lib/python3.6/dist-packages/tensorflow/python/platform/app.py\", line 40, in run\n",
            "    _run(main=main, argv=argv, flags_parser=_parse_flags_tolerate_undef)\n",
            "  File \"/usr/local/lib/python3.6/dist-packages/absl/app.py\", line 300, in run\n",
            "    _run_main(main, args)\n",
            "  File \"/usr/local/lib/python3.6/dist-packages/absl/app.py\", line 251, in _run_main\n",
            "    sys.exit(main(argv))\n",
            "  File \"model_main_tf2.py\", line 110, in main\n",
            "    record_summaries=FLAGS.record_summaries)\n",
            "  File \"/content/gdrive/My Drive/TensorFlow/models/research/object_detection/model_lib_v2.py\", line 639, in train_loop\n",
            "    loss = _dist_train_step(train_input_iter)\n",
            "  File \"/usr/local/lib/python3.6/dist-packages/tensorflow/python/eager/def_function.py\", line 828, in __call__\n",
            "    result = self._call(*args, **kwds)\n",
            "  File \"/usr/local/lib/python3.6/dist-packages/tensorflow/python/eager/def_function.py\", line 855, in _call\n",
            "    return self._stateless_fn(*args, **kwds)  # pylint: disable=not-callable\n",
            "  File \"/usr/local/lib/python3.6/dist-packages/tensorflow/python/eager/function.py\", line 2943, in __call__\n",
            "    filtered_flat_args, captured_inputs=graph_function.captured_inputs)  # pylint: disable=protected-access\n",
            "  File \"/usr/local/lib/python3.6/dist-packages/tensorflow/python/eager/function.py\", line 1919, in _call_flat\n",
            "    ctx, args, cancellation_manager=cancellation_manager))\n",
            "  File \"/usr/local/lib/python3.6/dist-packages/tensorflow/python/eager/function.py\", line 560, in call\n",
            "    ctx=ctx)\n",
            "  File \"/usr/local/lib/python3.6/dist-packages/tensorflow/python/eager/execute.py\", line 60, in quick_execute\n",
            "    inputs, attrs, num_outputs)\n",
            "KeyboardInterrupt\n"
          ],
          "name": "stdout"
        }
      ]
    },
    {
      "cell_type": "code",
      "metadata": {
        "id": "PZIgtQTfvTUc"
      },
      "source": [
        "import sys\r\n",
        "sys.path.append('/content/base_folder/slim')"
      ],
      "execution_count": null,
      "outputs": []
    },
    {
      "cell_type": "code",
      "metadata": {
        "id": "3qEGyKrFztmg"
      },
      "source": [
        "!pip install opencv\r\n"
      ],
      "execution_count": null,
      "outputs": []
    },
    {
      "cell_type": "code",
      "metadata": {
        "id": "rXK5HNtgCgto"
      },
      "source": [
        "!apt-get install -y -qq protobuf-compiler python-pil python-lxml"
      ],
      "execution_count": null,
      "outputs": []
    },
    {
      "cell_type": "code",
      "metadata": {
        "id": "TuauWbiQu6zJ",
        "colab": {
          "base_uri": "https://localhost:8080/"
        },
        "outputId": "1a26dbca-ba5a-49d1-f3aa-a35fedea2796"
      },
      "source": [
        "%cd /content/gdrive/My Drive/TensorFlow/models/research/object_detection"
      ],
      "execution_count": null,
      "outputs": [
        {
          "output_type": "stream",
          "text": [
            "/content/gdrive/My Drive/TensorFlow/models/research/object_detection\n"
          ],
          "name": "stdout"
        }
      ]
    },
    {
      "cell_type": "code",
      "metadata": {
        "id": "_xmBbvi1vVIO"
      },
      "source": [
        "!python model_main_tf2.py --pipeline_config_path=training/faster_rcnn_resnet101_v1_640x640_coco17_tpu-8.config --model_dir=training --alsologtostderr"
      ],
      "execution_count": null,
      "outputs": []
    },
    {
      "cell_type": "markdown",
      "metadata": {
        "id": "_ksk9Wwvv8-B"
      },
      "source": [
        ""
      ]
    },
    {
      "cell_type": "code",
      "metadata": {
        "id": "kXxa5FeOv9lR"
      },
      "source": [
        "!protoc object_detection/protos/*.proto --python_out=."
      ],
      "execution_count": null,
      "outputs": []
    },
    {
      "cell_type": "markdown",
      "metadata": {
        "id": "jzEBg0v-uqG2"
      },
      "source": [
        ""
      ]
    },
    {
      "cell_type": "code",
      "metadata": {
        "id": "xlCnJCdIuqiF"
      },
      "source": [
        "%cd /content/gdrive/My Drive/TensorFlow/models/research/object_detection"
      ],
      "execution_count": null,
      "outputs": []
    },
    {
      "cell_type": "markdown",
      "metadata": {
        "id": "UD-GSvWMTxOx"
      },
      "source": [
        "Export inference graph"
      ]
    },
    {
      "cell_type": "code",
      "metadata": {
        "id": "aKYmR4NPScOm",
        "colab": {
          "base_uri": "https://localhost:8080/"
        },
        "outputId": "a4cdc188-3b6b-4b88-ace3-909cde35c2a4"
      },
      "source": [
        "#  .ckpt needs to be updated every time to match last .ckpt generated\n",
        "#  .config needs to be updated when changing model\n",
        "!python export_inference_graph.py --input_type image_tensor --pipeline_config_path training/faster_rcnn_resnet101_v1_640x640_coco17_tpu-8.config --trained_checkpoint_prefix training/model.ckpt-3 --output_directory new_graph"
      ],
      "execution_count": null,
      "outputs": [
        {
          "output_type": "stream",
          "text": [
            "2021-01-11 06:52:33.109105: W tensorflow/stream_executor/platform/default/dso_loader.cc:60] Could not load dynamic library 'libcudart.so.11.0'; dlerror: libcudart.so.11.0: cannot open shared object file: No such file or directory; LD_LIBRARY_PATH: /usr/lib64-nvidia\n",
            "2021-01-11 06:52:33.109175: I tensorflow/stream_executor/cuda/cudart_stub.cc:29] Ignore above cudart dlerror if you do not have a GPU set up on your machine.\n",
            "2021-01-11 06:52:36.093944: I tensorflow/compiler/jit/xla_cpu_device.cc:41] Not creating XLA devices, tf_xla_enable_xla_devices not set\n",
            "2021-01-11 06:52:36.109771: I tensorflow/stream_executor/platform/default/dso_loader.cc:49] Successfully opened dynamic library libcuda.so.1\n",
            "2021-01-11 06:52:36.140205: I tensorflow/stream_executor/cuda/cuda_gpu_executor.cc:941] successful NUMA node read from SysFS had negative value (-1), but there must be at least one NUMA node, so returning NUMA node zero\n",
            "2021-01-11 06:52:36.140795: I tensorflow/core/common_runtime/gpu/gpu_device.cc:1720] Found device 0 with properties: \n",
            "pciBusID: 0000:00:04.0 name: Tesla T4 computeCapability: 7.5\n",
            "coreClock: 1.59GHz coreCount: 40 deviceMemorySize: 14.73GiB deviceMemoryBandwidth: 298.08GiB/s\n",
            "2021-01-11 06:52:36.140923: W tensorflow/stream_executor/platform/default/dso_loader.cc:60] Could not load dynamic library 'libcudart.so.11.0'; dlerror: libcudart.so.11.0: cannot open shared object file: No such file or directory; LD_LIBRARY_PATH: /usr/lib64-nvidia\n",
            "2021-01-11 06:52:36.141608: W tensorflow/stream_executor/platform/default/dso_loader.cc:60] Could not load dynamic library 'libcublas.so.11'; dlerror: libcublas.so.11: cannot open shared object file: No such file or directory; LD_LIBRARY_PATH: /usr/lib64-nvidia\n",
            "2021-01-11 06:52:36.142111: W tensorflow/stream_executor/platform/default/dso_loader.cc:60] Could not load dynamic library 'libcublasLt.so.11'; dlerror: libcublasLt.so.11: cannot open shared object file: No such file or directory; LD_LIBRARY_PATH: /usr/lib64-nvidia\n",
            "2021-01-11 06:52:36.248784: I tensorflow/stream_executor/platform/default/dso_loader.cc:49] Successfully opened dynamic library libcufft.so.10\n",
            "2021-01-11 06:52:36.252719: I tensorflow/stream_executor/platform/default/dso_loader.cc:49] Successfully opened dynamic library libcurand.so.10\n",
            "2021-01-11 06:52:36.538818: I tensorflow/stream_executor/platform/default/dso_loader.cc:49] Successfully opened dynamic library libcusolver.so.10\n",
            "2021-01-11 06:52:36.539079: W tensorflow/stream_executor/platform/default/dso_loader.cc:60] Could not load dynamic library 'libcusparse.so.11'; dlerror: libcusparse.so.11: cannot open shared object file: No such file or directory; LD_LIBRARY_PATH: /usr/lib64-nvidia\n",
            "2021-01-11 06:52:36.540139: W tensorflow/stream_executor/platform/default/dso_loader.cc:60] Could not load dynamic library 'libcudnn.so.8'; dlerror: libcudnn.so.8: cannot open shared object file: No such file or directory; LD_LIBRARY_PATH: /usr/lib64-nvidia\n",
            "2021-01-11 06:52:36.540178: W tensorflow/core/common_runtime/gpu/gpu_device.cc:1757] Cannot dlopen some GPU libraries. Please make sure the missing libraries mentioned above are installed properly if you would like to use GPU. Follow the guide at https://www.tensorflow.org/install/gpu for how to download and setup the required libraries for your platform.\n",
            "Skipping registering GPU devices...\n",
            "2021-01-11 06:52:36.541121: I tensorflow/compiler/jit/xla_gpu_device.cc:99] Not creating XLA devices, tf_xla_enable_xla_devices not set\n",
            "2021-01-11 06:52:36.541194: I tensorflow/core/common_runtime/gpu/gpu_device.cc:1261] Device interconnect StreamExecutor with strength 1 edge matrix:\n",
            "2021-01-11 06:52:36.541215: I tensorflow/core/common_runtime/gpu/gpu_device.cc:1267]      \n",
            "Traceback (most recent call last):\n",
            "  File \"export_inference_graph.py\", line 206, in <module>\n",
            "    tf.app.run()\n",
            "  File \"/usr/local/lib/python3.6/dist-packages/tensorflow/python/platform/app.py\", line 40, in run\n",
            "    _run(main=main, argv=argv, flags_parser=_parse_flags_tolerate_undef)\n",
            "  File \"/usr/local/lib/python3.6/dist-packages/absl/app.py\", line 300, in run\n",
            "    _run_main(main, args)\n",
            "  File \"/usr/local/lib/python3.6/dist-packages/absl/app.py\", line 251, in _run_main\n",
            "    sys.exit(main(argv))\n",
            "  File \"export_inference_graph.py\", line 202, in main\n",
            "    side_input_types=side_input_types)\n",
            "  File \"/content/gdrive/My Drive/TensorFlow/models/research/object_detection/exporter.py\", line 625, in export_inference_graph\n",
            "    side_input_types=side_input_types)\n",
            "  File \"/content/gdrive/My Drive/TensorFlow/models/research/object_detection/exporter.py\", line 512, in _export_inference_graph\n",
            "    side_input_types=side_input_types)\n",
            "  File \"/content/gdrive/My Drive/TensorFlow/models/research/object_detection/exporter.py\", line 458, in build_detection_graph\n",
            "    **placeholder_args)\n",
            "  File \"/content/gdrive/My Drive/TensorFlow/models/research/object_detection/exporter.py\", line 187, in _image_tensor_input_placeholder\n",
            "    dtype=tf.uint8, shape=input_shape, name='image_tensor')\n",
            "  File \"/usr/local/lib/python3.6/dist-packages/tensorflow/python/ops/array_ops.py\", line 3176, in placeholder\n",
            "    raise RuntimeError(\"tf.placeholder() is not compatible with \"\n",
            "RuntimeError: tf.placeholder() is not compatible with eager execution.\n"
          ],
          "name": "stdout"
        }
      ]
    },
    {
      "cell_type": "markdown",
      "metadata": {
        "id": "22wf5JXJT0ZH"
      },
      "source": [
        "Zip file in Google Drive"
      ]
    },
    {
      "cell_type": "code",
      "metadata": {
        "id": "OnqFIgn2S9gp"
      },
      "source": [
        "!zip -r model_graph.zip new_graph"
      ],
      "execution_count": null,
      "outputs": []
    }
  ]
}